{
 "cells": [
  {
   "cell_type": "code",
   "execution_count": 18,
   "id": "thrown-young",
   "metadata": {},
   "outputs": [],
   "source": [
    "import pandas as pd\n",
    "import numpy as np\n",
    "import matplotlib.pyplot as plt\n",
    "import seaborn as sns"
   ]
  },
  {
   "cell_type": "code",
   "execution_count": 19,
   "id": "aging-lending",
   "metadata": {},
   "outputs": [
    {
     "name": "stderr",
     "output_type": "stream",
     "text": [
      "c:\\users\\sk\\appdata\\local\\programs\\python\\python39\\lib\\site-packages\\IPython\\core\\interactiveshell.py:3165: DtypeWarning: Columns (4,6,31,33,61,62,63,76,79,90,92,94,96,114,115,121) have mixed types.Specify dtype option on import or set low_memory=False.\n",
      "  has_raised = await self.run_ast_nodes(code_ast.body, cell_name,\n"
     ]
    },
    {
     "data": {
      "text/html": [
       "<div>\n",
       "<style scoped>\n",
       "    .dataframe tbody tr th:only-of-type {\n",
       "        vertical-align: middle;\n",
       "    }\n",
       "\n",
       "    .dataframe tbody tr th {\n",
       "        vertical-align: top;\n",
       "    }\n",
       "\n",
       "    .dataframe thead th {\n",
       "        text-align: right;\n",
       "    }\n",
       "</style>\n",
       "<table border=\"1\" class=\"dataframe\">\n",
       "  <thead>\n",
       "    <tr style=\"text-align: right;\">\n",
       "      <th></th>\n",
       "      <th>eventid</th>\n",
       "      <th>iyear</th>\n",
       "      <th>imonth</th>\n",
       "      <th>iday</th>\n",
       "      <th>approxdate</th>\n",
       "      <th>extended</th>\n",
       "      <th>resolution</th>\n",
       "      <th>country</th>\n",
       "      <th>country_txt</th>\n",
       "      <th>region</th>\n",
       "      <th>...</th>\n",
       "      <th>addnotes</th>\n",
       "      <th>scite1</th>\n",
       "      <th>scite2</th>\n",
       "      <th>scite3</th>\n",
       "      <th>dbsource</th>\n",
       "      <th>INT_LOG</th>\n",
       "      <th>INT_IDEO</th>\n",
       "      <th>INT_MISC</th>\n",
       "      <th>INT_ANY</th>\n",
       "      <th>related</th>\n",
       "    </tr>\n",
       "  </thead>\n",
       "  <tbody>\n",
       "    <tr>\n",
       "      <th>0</th>\n",
       "      <td>197000000001</td>\n",
       "      <td>1970</td>\n",
       "      <td>7</td>\n",
       "      <td>2</td>\n",
       "      <td>NaN</td>\n",
       "      <td>0</td>\n",
       "      <td>NaN</td>\n",
       "      <td>58</td>\n",
       "      <td>Dominican Republic</td>\n",
       "      <td>2</td>\n",
       "      <td>...</td>\n",
       "      <td>NaN</td>\n",
       "      <td>NaN</td>\n",
       "      <td>NaN</td>\n",
       "      <td>NaN</td>\n",
       "      <td>PGIS</td>\n",
       "      <td>0</td>\n",
       "      <td>0</td>\n",
       "      <td>0</td>\n",
       "      <td>0</td>\n",
       "      <td>NaN</td>\n",
       "    </tr>\n",
       "    <tr>\n",
       "      <th>1</th>\n",
       "      <td>197000000002</td>\n",
       "      <td>1970</td>\n",
       "      <td>0</td>\n",
       "      <td>0</td>\n",
       "      <td>NaN</td>\n",
       "      <td>0</td>\n",
       "      <td>NaN</td>\n",
       "      <td>130</td>\n",
       "      <td>Mexico</td>\n",
       "      <td>1</td>\n",
       "      <td>...</td>\n",
       "      <td>NaN</td>\n",
       "      <td>NaN</td>\n",
       "      <td>NaN</td>\n",
       "      <td>NaN</td>\n",
       "      <td>PGIS</td>\n",
       "      <td>0</td>\n",
       "      <td>1</td>\n",
       "      <td>1</td>\n",
       "      <td>1</td>\n",
       "      <td>NaN</td>\n",
       "    </tr>\n",
       "    <tr>\n",
       "      <th>2</th>\n",
       "      <td>197001000001</td>\n",
       "      <td>1970</td>\n",
       "      <td>1</td>\n",
       "      <td>0</td>\n",
       "      <td>NaN</td>\n",
       "      <td>0</td>\n",
       "      <td>NaN</td>\n",
       "      <td>160</td>\n",
       "      <td>Philippines</td>\n",
       "      <td>5</td>\n",
       "      <td>...</td>\n",
       "      <td>NaN</td>\n",
       "      <td>NaN</td>\n",
       "      <td>NaN</td>\n",
       "      <td>NaN</td>\n",
       "      <td>PGIS</td>\n",
       "      <td>-9</td>\n",
       "      <td>-9</td>\n",
       "      <td>1</td>\n",
       "      <td>1</td>\n",
       "      <td>NaN</td>\n",
       "    </tr>\n",
       "    <tr>\n",
       "      <th>3</th>\n",
       "      <td>197001000002</td>\n",
       "      <td>1970</td>\n",
       "      <td>1</td>\n",
       "      <td>0</td>\n",
       "      <td>NaN</td>\n",
       "      <td>0</td>\n",
       "      <td>NaN</td>\n",
       "      <td>78</td>\n",
       "      <td>Greece</td>\n",
       "      <td>8</td>\n",
       "      <td>...</td>\n",
       "      <td>NaN</td>\n",
       "      <td>NaN</td>\n",
       "      <td>NaN</td>\n",
       "      <td>NaN</td>\n",
       "      <td>PGIS</td>\n",
       "      <td>-9</td>\n",
       "      <td>-9</td>\n",
       "      <td>1</td>\n",
       "      <td>1</td>\n",
       "      <td>NaN</td>\n",
       "    </tr>\n",
       "    <tr>\n",
       "      <th>4</th>\n",
       "      <td>197001000003</td>\n",
       "      <td>1970</td>\n",
       "      <td>1</td>\n",
       "      <td>0</td>\n",
       "      <td>NaN</td>\n",
       "      <td>0</td>\n",
       "      <td>NaN</td>\n",
       "      <td>101</td>\n",
       "      <td>Japan</td>\n",
       "      <td>4</td>\n",
       "      <td>...</td>\n",
       "      <td>NaN</td>\n",
       "      <td>NaN</td>\n",
       "      <td>NaN</td>\n",
       "      <td>NaN</td>\n",
       "      <td>PGIS</td>\n",
       "      <td>-9</td>\n",
       "      <td>-9</td>\n",
       "      <td>1</td>\n",
       "      <td>1</td>\n",
       "      <td>NaN</td>\n",
       "    </tr>\n",
       "    <tr>\n",
       "      <th>...</th>\n",
       "      <td>...</td>\n",
       "      <td>...</td>\n",
       "      <td>...</td>\n",
       "      <td>...</td>\n",
       "      <td>...</td>\n",
       "      <td>...</td>\n",
       "      <td>...</td>\n",
       "      <td>...</td>\n",
       "      <td>...</td>\n",
       "      <td>...</td>\n",
       "      <td>...</td>\n",
       "      <td>...</td>\n",
       "      <td>...</td>\n",
       "      <td>...</td>\n",
       "      <td>...</td>\n",
       "      <td>...</td>\n",
       "      <td>...</td>\n",
       "      <td>...</td>\n",
       "      <td>...</td>\n",
       "      <td>...</td>\n",
       "      <td>...</td>\n",
       "    </tr>\n",
       "    <tr>\n",
       "      <th>181686</th>\n",
       "      <td>201712310022</td>\n",
       "      <td>2017</td>\n",
       "      <td>12</td>\n",
       "      <td>31</td>\n",
       "      <td>NaN</td>\n",
       "      <td>0</td>\n",
       "      <td>NaN</td>\n",
       "      <td>182</td>\n",
       "      <td>Somalia</td>\n",
       "      <td>11</td>\n",
       "      <td>...</td>\n",
       "      <td>NaN</td>\n",
       "      <td>\"Somalia: Al-Shabaab Militants Attack Army Che...</td>\n",
       "      <td>\"Highlights: Somalia Daily Media Highlights 2 ...</td>\n",
       "      <td>\"Highlights: Somalia Daily Media Highlights 1 ...</td>\n",
       "      <td>START Primary Collection</td>\n",
       "      <td>0</td>\n",
       "      <td>0</td>\n",
       "      <td>0</td>\n",
       "      <td>0</td>\n",
       "      <td>NaN</td>\n",
       "    </tr>\n",
       "    <tr>\n",
       "      <th>181687</th>\n",
       "      <td>201712310029</td>\n",
       "      <td>2017</td>\n",
       "      <td>12</td>\n",
       "      <td>31</td>\n",
       "      <td>NaN</td>\n",
       "      <td>0</td>\n",
       "      <td>NaN</td>\n",
       "      <td>200</td>\n",
       "      <td>Syria</td>\n",
       "      <td>10</td>\n",
       "      <td>...</td>\n",
       "      <td>NaN</td>\n",
       "      <td>\"Putin's 'victory' in Syria has turned into a ...</td>\n",
       "      <td>\"Two Russian soldiers killed at Hmeymim base i...</td>\n",
       "      <td>\"Two Russian servicemen killed in Syria mortar...</td>\n",
       "      <td>START Primary Collection</td>\n",
       "      <td>-9</td>\n",
       "      <td>-9</td>\n",
       "      <td>1</td>\n",
       "      <td>1</td>\n",
       "      <td>NaN</td>\n",
       "    </tr>\n",
       "    <tr>\n",
       "      <th>181688</th>\n",
       "      <td>201712310030</td>\n",
       "      <td>2017</td>\n",
       "      <td>12</td>\n",
       "      <td>31</td>\n",
       "      <td>NaN</td>\n",
       "      <td>0</td>\n",
       "      <td>NaN</td>\n",
       "      <td>160</td>\n",
       "      <td>Philippines</td>\n",
       "      <td>5</td>\n",
       "      <td>...</td>\n",
       "      <td>NaN</td>\n",
       "      <td>\"Maguindanao clashes trap tribe members,\" Phil...</td>\n",
       "      <td>NaN</td>\n",
       "      <td>NaN</td>\n",
       "      <td>START Primary Collection</td>\n",
       "      <td>0</td>\n",
       "      <td>0</td>\n",
       "      <td>0</td>\n",
       "      <td>0</td>\n",
       "      <td>NaN</td>\n",
       "    </tr>\n",
       "    <tr>\n",
       "      <th>181689</th>\n",
       "      <td>201712310031</td>\n",
       "      <td>2017</td>\n",
       "      <td>12</td>\n",
       "      <td>31</td>\n",
       "      <td>NaN</td>\n",
       "      <td>0</td>\n",
       "      <td>NaN</td>\n",
       "      <td>92</td>\n",
       "      <td>India</td>\n",
       "      <td>6</td>\n",
       "      <td>...</td>\n",
       "      <td>NaN</td>\n",
       "      <td>\"Trader escapes grenade attack in Imphal,\" Bus...</td>\n",
       "      <td>NaN</td>\n",
       "      <td>NaN</td>\n",
       "      <td>START Primary Collection</td>\n",
       "      <td>-9</td>\n",
       "      <td>-9</td>\n",
       "      <td>0</td>\n",
       "      <td>-9</td>\n",
       "      <td>NaN</td>\n",
       "    </tr>\n",
       "    <tr>\n",
       "      <th>181690</th>\n",
       "      <td>201712310032</td>\n",
       "      <td>2017</td>\n",
       "      <td>12</td>\n",
       "      <td>31</td>\n",
       "      <td>NaN</td>\n",
       "      <td>0</td>\n",
       "      <td>NaN</td>\n",
       "      <td>160</td>\n",
       "      <td>Philippines</td>\n",
       "      <td>5</td>\n",
       "      <td>...</td>\n",
       "      <td>NaN</td>\n",
       "      <td>\"Security tightened in Cotabato following IED ...</td>\n",
       "      <td>\"Security tightened in Cotabato City,\" Manila ...</td>\n",
       "      <td>NaN</td>\n",
       "      <td>START Primary Collection</td>\n",
       "      <td>-9</td>\n",
       "      <td>-9</td>\n",
       "      <td>0</td>\n",
       "      <td>-9</td>\n",
       "      <td>NaN</td>\n",
       "    </tr>\n",
       "  </tbody>\n",
       "</table>\n",
       "<p>181691 rows × 135 columns</p>\n",
       "</div>"
      ],
      "text/plain": [
       "             eventid  iyear  imonth  iday approxdate  extended resolution  \\\n",
       "0       197000000001   1970       7     2        NaN         0        NaN   \n",
       "1       197000000002   1970       0     0        NaN         0        NaN   \n",
       "2       197001000001   1970       1     0        NaN         0        NaN   \n",
       "3       197001000002   1970       1     0        NaN         0        NaN   \n",
       "4       197001000003   1970       1     0        NaN         0        NaN   \n",
       "...              ...    ...     ...   ...        ...       ...        ...   \n",
       "181686  201712310022   2017      12    31        NaN         0        NaN   \n",
       "181687  201712310029   2017      12    31        NaN         0        NaN   \n",
       "181688  201712310030   2017      12    31        NaN         0        NaN   \n",
       "181689  201712310031   2017      12    31        NaN         0        NaN   \n",
       "181690  201712310032   2017      12    31        NaN         0        NaN   \n",
       "\n",
       "        country         country_txt  region  ... addnotes  \\\n",
       "0            58  Dominican Republic       2  ...      NaN   \n",
       "1           130              Mexico       1  ...      NaN   \n",
       "2           160         Philippines       5  ...      NaN   \n",
       "3            78              Greece       8  ...      NaN   \n",
       "4           101               Japan       4  ...      NaN   \n",
       "...         ...                 ...     ...  ...      ...   \n",
       "181686      182             Somalia      11  ...      NaN   \n",
       "181687      200               Syria      10  ...      NaN   \n",
       "181688      160         Philippines       5  ...      NaN   \n",
       "181689       92               India       6  ...      NaN   \n",
       "181690      160         Philippines       5  ...      NaN   \n",
       "\n",
       "                                                   scite1  \\\n",
       "0                                                     NaN   \n",
       "1                                                     NaN   \n",
       "2                                                     NaN   \n",
       "3                                                     NaN   \n",
       "4                                                     NaN   \n",
       "...                                                   ...   \n",
       "181686  \"Somalia: Al-Shabaab Militants Attack Army Che...   \n",
       "181687  \"Putin's 'victory' in Syria has turned into a ...   \n",
       "181688  \"Maguindanao clashes trap tribe members,\" Phil...   \n",
       "181689  \"Trader escapes grenade attack in Imphal,\" Bus...   \n",
       "181690  \"Security tightened in Cotabato following IED ...   \n",
       "\n",
       "                                                   scite2  \\\n",
       "0                                                     NaN   \n",
       "1                                                     NaN   \n",
       "2                                                     NaN   \n",
       "3                                                     NaN   \n",
       "4                                                     NaN   \n",
       "...                                                   ...   \n",
       "181686  \"Highlights: Somalia Daily Media Highlights 2 ...   \n",
       "181687  \"Two Russian soldiers killed at Hmeymim base i...   \n",
       "181688                                                NaN   \n",
       "181689                                                NaN   \n",
       "181690  \"Security tightened in Cotabato City,\" Manila ...   \n",
       "\n",
       "                                                   scite3  \\\n",
       "0                                                     NaN   \n",
       "1                                                     NaN   \n",
       "2                                                     NaN   \n",
       "3                                                     NaN   \n",
       "4                                                     NaN   \n",
       "...                                                   ...   \n",
       "181686  \"Highlights: Somalia Daily Media Highlights 1 ...   \n",
       "181687  \"Two Russian servicemen killed in Syria mortar...   \n",
       "181688                                                NaN   \n",
       "181689                                                NaN   \n",
       "181690                                                NaN   \n",
       "\n",
       "                        dbsource  INT_LOG  INT_IDEO INT_MISC INT_ANY  related  \n",
       "0                           PGIS        0         0        0       0      NaN  \n",
       "1                           PGIS        0         1        1       1      NaN  \n",
       "2                           PGIS       -9        -9        1       1      NaN  \n",
       "3                           PGIS       -9        -9        1       1      NaN  \n",
       "4                           PGIS       -9        -9        1       1      NaN  \n",
       "...                          ...      ...       ...      ...     ...      ...  \n",
       "181686  START Primary Collection        0         0        0       0      NaN  \n",
       "181687  START Primary Collection       -9        -9        1       1      NaN  \n",
       "181688  START Primary Collection        0         0        0       0      NaN  \n",
       "181689  START Primary Collection       -9        -9        0      -9      NaN  \n",
       "181690  START Primary Collection       -9        -9        0      -9      NaN  \n",
       "\n",
       "[181691 rows x 135 columns]"
      ]
     },
     "execution_count": 19,
     "metadata": {},
     "output_type": "execute_result"
    }
   ],
   "source": [
    "df=pd.read_csv(r'C:\\Users\\sk\\Downloads\\Global Terrorism - START data\\globalterrorismdb_0718dist.csv')\n",
    "df"
   ]
  },
  {
   "cell_type": "code",
   "execution_count": 20,
   "id": "ranking-carpet",
   "metadata": {},
   "outputs": [
    {
     "data": {
      "text/plain": [
       "(181691, 135)"
      ]
     },
     "execution_count": 20,
     "metadata": {},
     "output_type": "execute_result"
    }
   ],
   "source": [
    "df.shape"
   ]
  },
  {
   "cell_type": "code",
   "execution_count": 21,
   "id": "empty-touch",
   "metadata": {},
   "outputs": [
    {
     "data": {
      "text/plain": [
       "eventid            0\n",
       "iyear              0\n",
       "imonth             0\n",
       "iday               0\n",
       "approxdate    172452\n",
       "               ...  \n",
       "INT_LOG            0\n",
       "INT_IDEO           0\n",
       "INT_MISC           0\n",
       "INT_ANY            0\n",
       "related       156653\n",
       "Length: 135, dtype: int64"
      ]
     },
     "execution_count": 21,
     "metadata": {},
     "output_type": "execute_result"
    }
   ],
   "source": [
    "df.isnull().sum()"
   ]
  },
  {
   "cell_type": "code",
   "execution_count": 22,
   "id": "guided-constraint",
   "metadata": {},
   "outputs": [],
   "source": [
    "def make_dataframe_for_nan(df):\n",
    "    nan_features=[]\n",
    "    nan_rows_feature=[]\n",
    "    perc_nan_rows=[]\n",
    "    rounded_perc_nan_rows=[]\n",
    "    for feature in df.columns:\n",
    "        if (df[feature].isnull().sum())>0:\n",
    "            nan_rows=df[feature].isnull().sum()\n",
    "            nan_rows_per=nan_rows/len(df)*100\n",
    "            rounded_nan_rows_per=np.round(nan_rows_per)\n",
    "            nan_features.append(feature)\n",
    "            nan_rows_feature.append(nan_rows)\n",
    "            perc_nan_rows.append(nan_rows_per)\n",
    "            rounded_perc_nan_rows.append(rounded_nan_rows_per)\n",
    "    nan= pd.DataFrame(list(zip(nan_features,nan_rows_feature,perc_nan_rows,rounded_perc_nan_rows)),columns =['feature Name','no of nan rows','percentage of nan rows','rounded percentage of nan rows'])\n",
    "    nan.index = nan.index + 1\n",
    "    return nan "
   ]
  },
  {
   "cell_type": "code",
   "execution_count": 23,
   "id": "assumed-evans",
   "metadata": {},
   "outputs": [
    {
     "data": {
      "text/html": [
       "<div>\n",
       "<style scoped>\n",
       "    .dataframe tbody tr th:only-of-type {\n",
       "        vertical-align: middle;\n",
       "    }\n",
       "\n",
       "    .dataframe tbody tr th {\n",
       "        vertical-align: top;\n",
       "    }\n",
       "\n",
       "    .dataframe thead th {\n",
       "        text-align: right;\n",
       "    }\n",
       "</style>\n",
       "<table border=\"1\" class=\"dataframe\">\n",
       "  <thead>\n",
       "    <tr style=\"text-align: right;\">\n",
       "      <th></th>\n",
       "      <th>feature Name</th>\n",
       "      <th>no of nan rows</th>\n",
       "      <th>percentage of nan rows</th>\n",
       "      <th>rounded percentage of nan rows</th>\n",
       "    </tr>\n",
       "  </thead>\n",
       "  <tbody>\n",
       "    <tr>\n",
       "      <th>1</th>\n",
       "      <td>approxdate</td>\n",
       "      <td>172452</td>\n",
       "      <td>94.914993</td>\n",
       "      <td>95.0</td>\n",
       "    </tr>\n",
       "    <tr>\n",
       "      <th>2</th>\n",
       "      <td>resolution</td>\n",
       "      <td>179471</td>\n",
       "      <td>98.778145</td>\n",
       "      <td>99.0</td>\n",
       "    </tr>\n",
       "    <tr>\n",
       "      <th>3</th>\n",
       "      <td>provstate</td>\n",
       "      <td>421</td>\n",
       "      <td>0.231712</td>\n",
       "      <td>0.0</td>\n",
       "    </tr>\n",
       "    <tr>\n",
       "      <th>4</th>\n",
       "      <td>city</td>\n",
       "      <td>434</td>\n",
       "      <td>0.238867</td>\n",
       "      <td>0.0</td>\n",
       "    </tr>\n",
       "    <tr>\n",
       "      <th>5</th>\n",
       "      <td>latitude</td>\n",
       "      <td>4556</td>\n",
       "      <td>2.507554</td>\n",
       "      <td>3.0</td>\n",
       "    </tr>\n",
       "    <tr>\n",
       "      <th>...</th>\n",
       "      <td>...</td>\n",
       "      <td>...</td>\n",
       "      <td>...</td>\n",
       "      <td>...</td>\n",
       "    </tr>\n",
       "    <tr>\n",
       "      <th>102</th>\n",
       "      <td>addnotes</td>\n",
       "      <td>153402</td>\n",
       "      <td>84.430159</td>\n",
       "      <td>84.0</td>\n",
       "    </tr>\n",
       "    <tr>\n",
       "      <th>103</th>\n",
       "      <td>scite1</td>\n",
       "      <td>66191</td>\n",
       "      <td>36.430533</td>\n",
       "      <td>36.0</td>\n",
       "    </tr>\n",
       "    <tr>\n",
       "      <th>104</th>\n",
       "      <td>scite2</td>\n",
       "      <td>104758</td>\n",
       "      <td>57.657231</td>\n",
       "      <td>58.0</td>\n",
       "    </tr>\n",
       "    <tr>\n",
       "      <th>105</th>\n",
       "      <td>scite3</td>\n",
       "      <td>138175</td>\n",
       "      <td>76.049447</td>\n",
       "      <td>76.0</td>\n",
       "    </tr>\n",
       "    <tr>\n",
       "      <th>106</th>\n",
       "      <td>related</td>\n",
       "      <td>156653</td>\n",
       "      <td>86.219461</td>\n",
       "      <td>86.0</td>\n",
       "    </tr>\n",
       "  </tbody>\n",
       "</table>\n",
       "<p>106 rows × 4 columns</p>\n",
       "</div>"
      ],
      "text/plain": [
       "    feature Name  no of nan rows  percentage of nan rows  \\\n",
       "1     approxdate          172452               94.914993   \n",
       "2     resolution          179471               98.778145   \n",
       "3      provstate             421                0.231712   \n",
       "4           city             434                0.238867   \n",
       "5       latitude            4556                2.507554   \n",
       "..           ...             ...                     ...   \n",
       "102     addnotes          153402               84.430159   \n",
       "103       scite1           66191               36.430533   \n",
       "104       scite2          104758               57.657231   \n",
       "105       scite3          138175               76.049447   \n",
       "106      related          156653               86.219461   \n",
       "\n",
       "     rounded percentage of nan rows  \n",
       "1                              95.0  \n",
       "2                              99.0  \n",
       "3                               0.0  \n",
       "4                               0.0  \n",
       "5                               3.0  \n",
       "..                              ...  \n",
       "102                            84.0  \n",
       "103                            36.0  \n",
       "104                            58.0  \n",
       "105                            76.0  \n",
       "106                            86.0  \n",
       "\n",
       "[106 rows x 4 columns]"
      ]
     },
     "execution_count": 23,
     "metadata": {},
     "output_type": "execute_result"
    }
   ],
   "source": [
    "nan_dataframe=make_dataframe_for_nan(df)\n",
    "nan_dataframe"
   ]
  },
  {
   "cell_type": "code",
   "execution_count": 42,
   "id": "capable-witness",
   "metadata": {},
   "outputs": [
    {
     "data": {
      "text/plain": [
       "[]"
      ]
     },
     "execution_count": 42,
     "metadata": {},
     "output_type": "execute_result"
    }
   ],
   "source": [
    "high_nan_features=[]\n",
    "for feature in df.columns:\n",
    "    nan_rows=df[feature].isnull().sum()\n",
    "    nan_rows_per=nan_rows/len(df)*100\n",
    "    if nan_rows_per>=50:\n",
    "        high_nan_features.append(feature)\n",
    "high_nan_features"
   ]
  },
  {
   "cell_type": "code",
   "execution_count": 43,
   "id": "talented-onion",
   "metadata": {},
   "outputs": [
    {
     "data": {
      "text/plain": [
       "0"
      ]
     },
     "execution_count": 43,
     "metadata": {},
     "output_type": "execute_result"
    }
   ],
   "source": [
    "len(high_nan_features)"
   ]
  },
  {
   "cell_type": "code",
   "execution_count": 44,
   "id": "exciting-hartford",
   "metadata": {},
   "outputs": [
    {
     "data": {
      "text/plain": [
       "(181691, 58)"
      ]
     },
     "execution_count": 44,
     "metadata": {},
     "output_type": "execute_result"
    }
   ],
   "source": [
    "df=df.drop(high_nan_features,axis=1)\n",
    "df.shape"
   ]
  },
  {
   "cell_type": "code",
   "execution_count": 45,
   "id": "distinguished-arkansas",
   "metadata": {},
   "outputs": [
    {
     "data": {
      "text/plain": [
       "['eventid',\n",
       " 'iyear',\n",
       " 'iday',\n",
       " 'country',\n",
       " 'latitude',\n",
       " 'longitude',\n",
       " 'targtype1',\n",
       " 'targsubtype1',\n",
       " 'natlty1',\n",
       " 'nperps',\n",
       " 'nperpcap',\n",
       " 'weapsubtype1',\n",
       " 'nkill',\n",
       " 'nkillus',\n",
       " 'nkillter',\n",
       " 'nwound',\n",
       " 'nwoundus',\n",
       " 'nwoundte']"
      ]
     },
     "execution_count": 45,
     "metadata": {},
     "output_type": "execute_result"
    }
   ],
   "source": [
    "quant_features=[feature for feature in df.columns if df[feature].dtype!='O' and len(df[feature].unique())>20 ]\n",
    "quant_features"
   ]
  },
  {
   "cell_type": "code",
   "execution_count": 46,
   "id": "conceptual-implementation",
   "metadata": {},
   "outputs": [
    {
     "data": {
      "text/plain": [
       "18"
      ]
     },
     "execution_count": 46,
     "metadata": {},
     "output_type": "execute_result"
    }
   ],
   "source": [
    "len(quant_features)"
   ]
  },
  {
   "cell_type": "code",
   "execution_count": 47,
   "id": "standing-dairy",
   "metadata": {},
   "outputs": [
    {
     "data": {
      "text/plain": [
       "['imonth',\n",
       " 'extended',\n",
       " 'region',\n",
       " 'region_txt',\n",
       " 'specificity',\n",
       " 'vicinity',\n",
       " 'crit1',\n",
       " 'crit2',\n",
       " 'crit3',\n",
       " 'doubtterr',\n",
       " 'multiple',\n",
       " 'success',\n",
       " 'suicide',\n",
       " 'attacktype1',\n",
       " 'attacktype1_txt',\n",
       " 'guncertain1',\n",
       " 'individual',\n",
       " 'claimed',\n",
       " 'weaptype1',\n",
       " 'weaptype1_txt',\n",
       " 'property',\n",
       " 'ishostkid',\n",
       " 'INT_LOG',\n",
       " 'INT_IDEO',\n",
       " 'INT_MISC',\n",
       " 'INT_ANY']"
      ]
     },
     "execution_count": 47,
     "metadata": {},
     "output_type": "execute_result"
    }
   ],
   "source": [
    "qual_features=[feature for feature in df.columns if len(df[feature].unique())<20]\n",
    "qual_features"
   ]
  },
  {
   "cell_type": "code",
   "execution_count": 48,
   "id": "going-namibia",
   "metadata": {},
   "outputs": [
    {
     "data": {
      "text/plain": [
       "26"
      ]
     },
     "execution_count": 48,
     "metadata": {},
     "output_type": "execute_result"
    }
   ],
   "source": [
    "len(qual_features)"
   ]
  },
  {
   "cell_type": "code",
   "execution_count": 49,
   "id": "retained-elevation",
   "metadata": {},
   "outputs": [
    {
     "data": {
      "text/plain": [
       "['country_txt',\n",
       " 'provstate',\n",
       " 'city',\n",
       " 'summary',\n",
       " 'targtype1_txt',\n",
       " 'targsubtype1_txt',\n",
       " 'corp1',\n",
       " 'target1',\n",
       " 'natlty1_txt',\n",
       " 'gname',\n",
       " 'weapsubtype1_txt',\n",
       " 'weapdetail',\n",
       " 'scite1',\n",
       " 'dbsource']"
      ]
     },
     "execution_count": 49,
     "metadata": {},
     "output_type": "execute_result"
    }
   ],
   "source": [
    "other_features=[feature for feature in df.columns if feature not in qual_features and feature not in quant_features]\n",
    "other_features"
   ]
  },
  {
   "cell_type": "code",
   "execution_count": 76,
   "id": "communist-alarm",
   "metadata": {},
   "outputs": [
    {
     "name": "stdout",
     "output_type": "stream",
     "text": [
      "country_txt ::\n",
      "['Dominican Republic' 'Mexico' 'Philippines' 'Greece' 'Japan'\n",
      " 'United States' 'Uruguay' 'Italy' 'East Germany (GDR)' 'Ethiopia'\n",
      " 'Guatemala' 'Venezuela' 'West Germany (FRG)' 'Switzerland' 'Jordan'\n",
      " 'Spain' 'Brazil' 'Egypt' 'Argentina' 'Lebanon' 'Ireland' 'Turkey'\n",
      " 'Paraguay' 'Iran' 'United Kingdom' 'Colombia' 'Bolivia' 'Nicaragua'\n",
      " 'Netherlands' 'Belgium' 'Canada' 'Australia' 'Pakistan' 'Zambia' 'Sweden'\n",
      " 'Costa Rica' 'South Yemen' 'Cambodia' 'Israel' 'Poland' 'Taiwan' 'Panama'\n",
      " 'Kuwait' 'West Bank and Gaza Strip' 'Austria' 'Czechoslovakia' 'India'\n",
      " 'France' 'South Vietnam' 'Brunei' 'Zaire'\n",
      " \"People's Republic of the Congo\" 'Portugal' 'Algeria' 'El Salvador'\n",
      " 'Thailand' 'Haiti' 'Sudan' 'Morocco' 'Cyprus' 'Myanmar' 'Afghanistan'\n",
      " 'Peru' 'Chile' 'Honduras' 'Yugoslavia' 'Ecuador' 'New Zealand' 'Malaysia'\n",
      " 'Singapore' 'Botswana' 'Jamaica' 'Chad' 'North Yemen' 'Andorra' 'Syria'\n",
      " 'South Korea' 'United Arab Emirates' 'South Africa' 'Kenya' 'Iraq'\n",
      " 'Somalia' 'Tanzania' 'Sri Lanka' 'Namibia' 'Bahamas' 'Nigeria' 'Barbados'\n",
      " 'Trinidad and Tobago' 'Bangladesh' 'Angola' 'Mauritania' 'Saudi Arabia'\n",
      " 'Djibouti' 'Indonesia' 'Malta' 'Rhodesia' 'Soviet Union' 'Denmark'\n",
      " 'Western Sahara' 'Guyana' 'Mozambique' 'Tunisia' 'Uganda' 'Norway'\n",
      " 'Lesotho' 'Gabon' 'Libya' 'Bahrain' 'Hong Kong' 'Senegal' 'Zimbabwe'\n",
      " 'Guinea' 'Grenada' 'New Hebrides' 'Belize' 'Guadeloupe' 'Martinique'\n",
      " 'Vatican City' 'Albania' 'Central African Republic' 'Seychelles'\n",
      " 'Dominica' 'Qatar' 'Bulgaria' 'Suriname' 'Swaziland' 'Luxembourg'\n",
      " 'Iceland' 'French Guiana' 'Falkland Islands' 'Burkina Faso'\n",
      " 'New Caledonia' 'Romania' 'Niger' 'Nepal' 'Togo' 'Finland' 'Fiji' 'Ghana'\n",
      " 'Maldives' 'Mauritius' 'Hungary' 'Laos' 'Papua New Guinea' 'China'\n",
      " 'Liberia' 'Republic of the Congo' 'Mali' 'Germany' 'Yemen' 'Rwanda'\n",
      " 'Sierra Leone' 'Cameroon' 'Cuba' 'Croatia' 'Georgia' 'Azerbaijan'\n",
      " 'Madagascar' 'Lithuania' 'Burundi' 'Ukraine' 'Moldova' 'Armenia' 'Russia'\n",
      " 'Ivory Coast' 'Kazakhstan' 'Antigua and Barbuda' 'Bosnia-Herzegovina'\n",
      " 'Equatorial Guinea' 'Tajikistan' 'Malawi' 'Uzbekistan' 'Latvia' 'Estonia'\n",
      " 'Vietnam' 'Comoros' 'Benin' 'Slovak Republic' 'Macedonia'\n",
      " 'Wallis and Futuna' 'Belarus' 'Czech Republic' 'Slovenia' 'Gambia'\n",
      " 'North Korea' 'Eritrea' 'St. Kitts and Nevis' 'French Polynesia' 'Macau'\n",
      " 'Kyrgyzstan' 'Vanuatu' 'Democratic Republic of the Congo' 'Kosovo'\n",
      " 'Solomon Islands' 'East Timor' 'St. Lucia' 'Guinea-Bissau' 'Montenegro'\n",
      " 'International' 'Turkmenistan' 'Serbia-Montenegro' 'Bhutan' 'Serbia'\n",
      " 'South Sudan']\n",
      "provstate ::\n",
      "[nan 'Federal' 'Tarlac' ... 'Carlow' 'Western Lakes' 'Vidzeme']\n",
      "city ::\n",
      "['Santo Domingo' 'Mexico city' 'Unknown' ... 'Hungrum' 'Ceelka Geelow'\n",
      " 'Kubentog']\n",
      "summary ::\n",
      "[nan\n",
      " '1/1/1970: Unknown African American assailants fired several bullets at police headquarters in Cairo, Illinois, United States.  There were no casualties, however, one bullet narrowly missed several police officers.  This attack took place during heightened racial tensions, including a Black boycott of White-owned businesses, in Cairo Illinois.'\n",
      " '1/2/1970: Unknown perpetrators detonated explosives at the Pacific Gas & Electric Company Edes substation in Oakland, California, United States.  Three transformers were damaged costing an estimated $20,000 to $25,000.  There were no casualties.'\n",
      " ...\n",
      " '12/31/2017: Assailants set fire to houses in Kubentog, Datu Hoffer, Maguindanao, Philippines. There were no reported casualties in the attack. No group claimed responsibility for the incident; however, sources attributed the attack to the Bangsamoro Islamic Freedom Movement (BIFM).'\n",
      " '12/31/2017: Assailants threw a grenade at a Forest Department office in Mantripukhri neighborhood, Imphal, Manipur, India. No casualties were reported in the blast. No group claimed responsibility for the incident.'\n",
      " '12/31/2017: An explosive device was discovered and defused at a plaza in Cotabato City, Maguindanao, Philippines. No group claimed responsibility for the incident.']\n",
      "targtype1_txt ::\n",
      "['Private Citizens & Property' 'Government (Diplomatic)'\n",
      " 'Journalists & Media' 'Police' 'Utilities' 'Military'\n",
      " 'Government (General)' 'Airports & Aircraft' 'Business'\n",
      " 'Educational Institution' 'Violent Political Party'\n",
      " 'Religious Figures/Institutions' 'Unknown' 'Transportation' 'Tourists'\n",
      " 'NGO' 'Telecommunication' 'Food or Water Supply'\n",
      " 'Terrorists/Non-State Militia' 'Other' 'Maritime' 'Abortion Related']\n",
      "targsubtype1_txt ::\n",
      "['Named Civilian' 'Diplomatic Personnel (outside of embassy, consulate)'\n",
      " 'Radio Journalist/Staff/Facility' 'Embassy/Consulate'\n",
      " 'Police Building (headquarters, station, school)'\n",
      " 'Police Security Forces/Officers' 'Electricity'\n",
      " 'Military Recruiting Station/Academy'\n",
      " 'Government Building/Facility/Office'\n",
      " 'Military Barracks/Base/Headquarters/Checkpost'\n",
      " 'Aircraft (not at an airport)' 'Retail/Grocery/Bakery' nan\n",
      " 'Military Personnel (soldiers, troops, officers, forces)'\n",
      " 'School/University/Educational Building' 'Multinational Corporation'\n",
      " 'Party Office/Facility' 'House/Apartment/Residence'\n",
      " 'Race/Ethnicity Identified' 'Judge/Attorney/Court'\n",
      " 'Police Patrol (including vehicles and convoys)' 'Place of Worship'\n",
      " 'Vehicles/Transportation' 'Bus (excluding tourists)'\n",
      " 'Politician or Political Party Movement/Meeting/Rally' 'Hotel/Resort'\n",
      " 'Airport' 'Bank/Commerce' 'Construction' 'Tour Bus/Van'\n",
      " 'Train/Train Tracks/Trolley' 'Religion Identified' 'Gas/Oil/Electric'\n",
      " 'Newspaper Journalist/Staff/Facility' 'Military Maritime' 'Head of State'\n",
      " 'Entertainment/Cultural/Stadium/Casino' 'Labor Union Related'\n",
      " 'Restaurant/Bar/Caf�' 'Museum/Cultural Center/Cultural House'\n",
      " 'Government Personnel (excluding police, military)'\n",
      " 'Public Area (garden, parking lot, garage, beach, public building, camp)'\n",
      " 'Industrial/Textiles/Factory' 'International NGO'\n",
      " 'Unnamed Civilian/Unspecified' 'Political Party Member/Rally'\n",
      " 'Telephone/Telegraph' 'Airline Officer/Personnel' 'Water Supply'\n",
      " 'Laborer (General)/Occupation Identified'\n",
      " 'Military Transportation/Vehicle (excluding convoys)' 'Domestic NGO'\n",
      " 'Radio' 'Farm/Ranch' 'Terrorist' 'Military Unit/Patrol/Convoy'\n",
      " 'Fire Fighter/Truck' 'Other Personnel'\n",
      " 'Procession/Gathering (funeral, wedding, birthday, religious)' 'Mining'\n",
      " 'Oil' 'Medical/Pharmaceutical' 'Village/City/Town/Suburb'\n",
      " 'Memorial/Cemetery/Monument'\n",
      " 'International Organization (peacekeeper, aid agency, compound)'\n",
      " 'Affiliated Institution' 'Tourism Travel Agency' 'Television'\n",
      " 'Other (including online news agencies)'\n",
      " 'Television Journalist/Staff/Facility'\n",
      " 'Party Official/Candidate/Other Personnel'\n",
      " 'Highway/Road/Toll/Traffic Signal' 'Oil Tanker' 'Other Facility'\n",
      " 'Tourist' 'Royalty' 'Civilian Maritime' 'Gas' 'NATO' 'Military Aircraft'\n",
      " 'Taxi/Rickshaw' 'Teacher/Professor/Instructor' 'Religious Figure'\n",
      " 'Commercial Maritime' 'Non-State Militia' 'Marketplace/Plaza/Square'\n",
      " 'Prison/Jail' 'Subway' 'Bus Station/Stop' 'Bridge/Car Tunnel'\n",
      " 'Intelligence' 'Alleged Informant' 'Student' 'Legal Services' 'Clinics'\n",
      " 'Election-related' 'Multiple Telecommunication Targets' 'Farmer'\n",
      " 'Food Supply' 'Private Security Company/Firm' 'Port' 'Police Checkpoint'\n",
      " 'Protester' 'Refugee (including Camps/IDP/Asylum Seekers)' 'Paramilitary'\n",
      " 'Military Checkpoint' 'Rally' 'Personnel' 'Internet Infrastructure'\n",
      " 'Ambulance' 'Military Weaponry'\n",
      " 'Demilitarized Zone (including Green Zone)' 'Non-combatant Personnel']\n",
      "corp1 ::\n",
      "[nan 'Belgian Ambassador Daughter' 'Voice of America' ...\n",
      " 'Pacalna Variety Store' 'NC Hills Autonomous Council'\n",
      " 'Forest Department Manipur']\n",
      "target1 ::\n",
      "['Julio Guzman' 'Nadine Chaval, daughter' 'Employee' ...\n",
      " 'Personal Security Officer of Council Member Ihuing Pame: Prafulla Phukan'\n",
      " 'Jewelry Shop' 'Hmeymim Air Base']\n",
      "natlty1_txt ::\n",
      "['Dominican Republic' 'Belgium' 'United States' 'Uruguay' 'Germany'\n",
      " 'Great Britain' 'Venezuela' 'Puerto Rico' 'Israel' 'Austria'\n",
      " 'Switzerland' 'Jordan' 'Ethiopia' 'Spain' nan 'Japan' 'International'\n",
      " 'Egypt' 'Paraguay' 'Soviet Union' 'Ireland' 'Argentina' 'Philippines'\n",
      " 'China' 'West Bank and Gaza Strip' 'Multinational' 'Northern Ireland'\n",
      " 'Brazil' 'Haiti' 'South Africa' 'Portugal' 'Colombia' 'Greece'\n",
      " 'Nicaragua' 'Indonesia' 'Yugoslavia' 'Italy' 'Rhodesia' 'Ivory Coast'\n",
      " 'Iran' 'Canada' 'Poland' 'Sweden' 'Turkey' 'Costa Rica' 'Russia' 'Iraq'\n",
      " 'Cuba' 'France' 'Malawi' 'Democratic Republic of the Congo' 'Netherlands'\n",
      " 'Chile' 'Hong Kong' 'Yemen' 'Mexico' 'Syria' 'India' 'New Zealand'\n",
      " 'Senegal' 'Algeria' 'Peru' 'Czechoslovakia' 'Saudi Arabia' 'Denmark'\n",
      " 'West Germany (FRG)' 'Bahamas' 'Bolivia' 'El Salvador' 'Botswana'\n",
      " 'Guatemala' 'Lebanon' 'North Korea' 'Albania' 'South Korea'\n",
      " 'United Kingdom' 'Pakistan' 'Kenya' 'Cyprus' 'Panama' 'Sri Lanka'\n",
      " 'Ecuador' 'Malaysia' 'Morocco' 'Somalia' 'Nigeria' 'Namibia' 'Armenia'\n",
      " 'Barbados' 'Kuwait' 'Mozambique' 'Guyana' 'Taiwan' 'Tunisia' 'Myanmar'\n",
      " 'Trinidad and Tobago' 'Mauritania' 'Bulgaria' 'Thailand' 'Bahrain'\n",
      " 'Finland' 'Vietnam' 'United Arab Emirates' 'Malta' 'Australia' 'Zimbabwe'\n",
      " 'Zambia' 'Angola' 'Norway' 'Jamaica' 'Uganda' 'Croatia' 'Lesotho'\n",
      " 'Tanzania' 'Guinea' 'Fiji' 'Djibouti' 'Libya' 'Eritrea' 'Afghanistan'\n",
      " 'Honduras' 'Zaire' 'Mali' 'Bangladesh' 'Grenada' 'Vanuatu' 'Belize'\n",
      " 'North Yemen' 'Romania' 'Sudan' 'Chad' 'Central African Republic'\n",
      " 'Liberia' 'Seychelles' 'Dominica' \"People's Republic of the Congo\"\n",
      " 'Comoros' 'Suriname' 'Vatican City' 'Lithuania' 'Guadeloupe' 'Martinique'\n",
      " 'Western Sahara' 'Swaziland' 'Burkina Faso' 'Man, Isle of'\n",
      " 'New Caledonia' 'Cambodia' 'Singapore' 'Corsica' 'Luxembourg' 'Niger'\n",
      " 'Nepal' 'Hungary' 'Togo' 'Iceland' 'Sinhalese' 'Ghana' 'Maldives'\n",
      " 'Mauritius' 'Papua New Guinea' 'Qatar' 'Rwanda' 'Cameroon' 'Estonia'\n",
      " 'Sierra Leone' 'Latvia' 'Greenland' 'Bosnia-Herzegovina' 'Madagascar'\n",
      " 'Burundi' 'Azerbaijan' 'Kazakhstan' 'Georgia' 'Antigua and Barbuda'\n",
      " 'Commonwealth of Independent States' 'Ukraine' 'Moldova'\n",
      " 'Equatorial Guinea' 'Tajikistan' 'Laos' 'Brunei' 'Uzbekistan'\n",
      " 'Serbia-Montenegro' 'Republic of the Congo' 'Gabon' 'Slovak Republic'\n",
      " 'Macedonia' 'Mongolia' 'Benin' 'Belarus' 'Oman' 'Czech Republic' 'Gambia'\n",
      " 'Asian' 'Serbia' 'St. Kitts and Nevis' 'Kyrgyzstan' 'Macau' 'Slovenia'\n",
      " 'French Guiana' 'East Timor' 'Kosovo' 'Solomon Islands' 'St. Lucia'\n",
      " 'Guinea-Bissau' 'Montenegro' 'Bhutan' 'Bermuda' 'St. Martin'\n",
      " 'South Sudan' 'Turkmenistan' 'Saba (Netherlands Antilles)' 'Tuvalu'\n",
      " 'Virgin Islands (U.S.)' 'Marshall Islands']\n",
      "gname ::\n",
      "['MANO-D' '23rd of September Communist League' 'Unknown' ...\n",
      " 'Fatoni Warriors' 'Minorities of Metropolitan Attacks'\n",
      " 'Baloch Republican Party']\n",
      "weapsubtype1_txt ::\n",
      "[nan 'Unknown Explosive Type' 'Unknown Gun Type'\n",
      " 'Automatic or Semi-Automatic Rifle' 'Molotov Cocktail/Petrol Bomb'\n",
      " 'Gasoline or Alcohol' 'Rifle/Shotgun (non-automatic)' 'Arson/Fire'\n",
      " 'Pipe Bomb' 'Vehicle' 'Dynamite/TNT' 'Pressure Trigger' 'Time Fuse'\n",
      " 'Other Explosive Type' 'Poisoning'\n",
      " 'Projectile (rockets, mortars, RPGs, etc.)' 'Handgun' 'Letter Bomb'\n",
      " 'Blunt Object' 'Sticky Bomb' 'Grenade' 'Knife or Other Sharp Object'\n",
      " 'Landmine' 'Hands, Feet, Fists' 'Remote Trigger'\n",
      " 'Rope or Other Strangling Device' 'Explosive' 'Unknown Weapon Type'\n",
      " 'Suffocation' 'Suicide (carried bodily by human being)' 'Other Gun Type']\n",
      "weapdetail ::\n",
      "[nan 'Explosive' 'Incendiary' ...\n",
      " 'More than 10 mortars were used in the attack.'\n",
      " 'A 9-mm carbine rifle was used in the attack.'\n",
      " 'An explosive device containing a detonating cord, a battery, and a blasting cap was used in the attack.']\n",
      "scite1 ::\n",
      "[nan '\"Police Chief Quits,\" Washington Post, January 2, 1970.'\n",
      " 'Committee on Government Operations United States Senate, \"Riots, Civil, and Criminal Disorders,\" U.S. Government Printing Office, August 6, 1970.'\n",
      " ...\n",
      " '\"Maguindanao clashes trap tribe members,\" Philippines Daily Inquirer, January 3, 2018.'\n",
      " '\"Trader escapes grenade attack in Imphal,\" Business Standard India, January 3, 2018.'\n",
      " '\"Security tightened in Cotabato following IED discovery,\" Tempo, January 4, 2018.']\n",
      "dbsource ::\n",
      "['PGIS' 'Hewitt Project' 'Hijacking DB' 'CBRN Global Chronology' 'CAIN'\n",
      " 'HSI' 'Disorders and Terrorism Chronology' 'UMD Miscellaneous'\n",
      " 'State Department 1997 Document'\n",
      " 'UMD Encyclopedia of World Terrorism 2012' 'Hyland' 'Armenian Website'\n",
      " 'UMD Sri Lanka 2011' 'UMD South Africa' 'Anti-Abortion Project 2010'\n",
      " 'UMD Assassinations Project' 'Eco Project 2010' 'UMD Algeria 2010-2012'\n",
      " 'CETIS' 'Leuprecht Canadian Data' 'UMD Schmid 2012'\n",
      " 'UMD Black Widows 2011' 'Sageman' 'UMD JTMM Nepal 2012' 'ISVG'\n",
      " 'START Primary Collection']\n"
     ]
    }
   ],
   "source": [
    "for feature in other_features:\n",
    "    print(feature,'::')\n",
    "    print(df[feature].unique())"
   ]
  },
  {
   "cell_type": "code",
   "execution_count": 50,
   "id": "competent-perspective",
   "metadata": {},
   "outputs": [
    {
     "data": {
      "text/plain": [
       "14"
      ]
     },
     "execution_count": 50,
     "metadata": {},
     "output_type": "execute_result"
    }
   ],
   "source": [
    "len(other_features)"
   ]
  },
  {
   "cell_type": "code",
   "execution_count": 51,
   "id": "broadband-paste",
   "metadata": {},
   "outputs": [
    {
     "data": {
      "text/plain": [
       "['eventid',\n",
       " 'iyear',\n",
       " 'imonth',\n",
       " 'iday',\n",
       " 'extended',\n",
       " 'country',\n",
       " 'region',\n",
       " 'latitude',\n",
       " 'longitude',\n",
       " 'specificity',\n",
       " 'vicinity',\n",
       " 'crit1',\n",
       " 'crit2',\n",
       " 'crit3',\n",
       " 'doubtterr',\n",
       " 'multiple',\n",
       " 'success',\n",
       " 'suicide',\n",
       " 'attacktype1',\n",
       " 'targtype1',\n",
       " 'targsubtype1',\n",
       " 'natlty1',\n",
       " 'guncertain1',\n",
       " 'individual',\n",
       " 'nperps',\n",
       " 'nperpcap',\n",
       " 'claimed',\n",
       " 'weaptype1',\n",
       " 'weapsubtype1',\n",
       " 'nkill',\n",
       " 'nkillus',\n",
       " 'nkillter',\n",
       " 'nwound',\n",
       " 'nwoundus',\n",
       " 'nwoundte',\n",
       " 'property',\n",
       " 'ishostkid',\n",
       " 'INT_LOG',\n",
       " 'INT_IDEO',\n",
       " 'INT_MISC',\n",
       " 'INT_ANY']"
      ]
     },
     "execution_count": 51,
     "metadata": {},
     "output_type": "execute_result"
    }
   ],
   "source": [
    "num_features=[feature for feature in df.columns if df[feature].dtype!='O']\n",
    "num_features"
   ]
  },
  {
   "cell_type": "code",
   "execution_count": 52,
   "id": "talented-intro",
   "metadata": {},
   "outputs": [
    {
     "data": {
      "text/plain": [
       "41"
      ]
     },
     "execution_count": 52,
     "metadata": {},
     "output_type": "execute_result"
    }
   ],
   "source": [
    "len(num_features)"
   ]
  },
  {
   "cell_type": "code",
   "execution_count": 53,
   "id": "dutch-custom",
   "metadata": {},
   "outputs": [
    {
     "data": {
      "text/plain": [
       "['country_txt',\n",
       " 'region_txt',\n",
       " 'provstate',\n",
       " 'city',\n",
       " 'summary',\n",
       " 'attacktype1_txt',\n",
       " 'targtype1_txt',\n",
       " 'targsubtype1_txt',\n",
       " 'corp1',\n",
       " 'target1',\n",
       " 'natlty1_txt',\n",
       " 'gname',\n",
       " 'weaptype1_txt',\n",
       " 'weapsubtype1_txt',\n",
       " 'weapdetail',\n",
       " 'scite1',\n",
       " 'dbsource']"
      ]
     },
     "execution_count": 53,
     "metadata": {},
     "output_type": "execute_result"
    }
   ],
   "source": [
    "non_num_features=[feature for feature in df.columns if df[feature].dtype=='O']\n",
    "non_num_features"
   ]
  },
  {
   "cell_type": "code",
   "execution_count": 36,
   "id": "popular-monster",
   "metadata": {},
   "outputs": [
    {
     "data": {
      "text/plain": [
       "17"
      ]
     },
     "execution_count": 36,
     "metadata": {},
     "output_type": "execute_result"
    }
   ],
   "source": [
    "len(non_num_features)"
   ]
  },
  {
   "cell_type": "code",
   "execution_count": 37,
   "id": "mechanical-legislation",
   "metadata": {},
   "outputs": [
    {
     "name": "stdout",
     "output_type": "stream",
     "text": [
      "imonth\n",
      "[ 7  0  1  2  3  4  5  6  8  9 10 11 12]\n",
      "extended\n",
      "[0 1]\n",
      "region\n",
      "[ 2  1  5  8  4  3  9 11 10 12  6  7]\n",
      "region_txt\n",
      "['Central America & Caribbean' 'North America' 'Southeast Asia'\n",
      " 'Western Europe' 'East Asia' 'South America' 'Eastern Europe'\n",
      " 'Sub-Saharan Africa' 'Middle East & North Africa' 'Australasia & Oceania'\n",
      " 'South Asia' 'Central Asia']\n",
      "specificity\n",
      "[ 1.  4.  5.  2.  3. nan]\n",
      "vicinity\n",
      "[ 0  1 -9]\n",
      "crit1\n",
      "[1 0]\n",
      "crit2\n",
      "[1 0]\n",
      "crit3\n",
      "[1 0]\n",
      "doubtterr\n",
      "[ 0. -9.  1. nan]\n",
      "multiple\n",
      "[ 0.  1. nan]\n",
      "success\n",
      "[1 0]\n",
      "suicide\n",
      "[0 1]\n",
      "attacktype1\n",
      "[1 6 3 7 2 4 9 8 5]\n",
      "attacktype1_txt\n",
      "['Assassination' 'Hostage Taking (Kidnapping)' 'Bombing/Explosion'\n",
      " 'Facility/Infrastructure Attack' 'Armed Assault' 'Hijacking' 'Unknown'\n",
      " 'Unarmed Assault' 'Hostage Taking (Barricade Incident)']\n",
      "guncertain1\n",
      "[ 0.  1. nan]\n",
      "individual\n",
      "[0 1]\n",
      "claimed\n",
      "[nan  0.  1. -9.]\n",
      "weaptype1\n",
      "[13  6  8  5  2  9 11 10  7  3 12  1]\n",
      "weaptype1_txt\n",
      "['Unknown' 'Explosives' 'Incendiary' 'Firearms' 'Chemical' 'Melee'\n",
      " 'Sabotage Equipment'\n",
      " 'Vehicle (not to include vehicle-borne explosives, i.e., car or truck bombs)'\n",
      " 'Fake Weapons' 'Radiological' 'Other' 'Biological']\n",
      "property\n",
      "[ 0  1 -9]\n",
      "ishostkid\n",
      "[ 0.  1. nan -9.]\n",
      "INT_LOG\n",
      "[ 0 -9  1]\n",
      "INT_IDEO\n",
      "[ 0  1 -9]\n",
      "INT_MISC\n",
      "[ 0  1 -9]\n",
      "INT_ANY\n",
      "[ 0  1 -9]\n"
     ]
    }
   ],
   "source": [
    "for feature in qual_features:\n",
    "    print(feature)\n",
    "    print(df[feature].unique())"
   ]
  },
  {
   "cell_type": "code",
   "execution_count": 57,
   "id": "timely-edinburgh",
   "metadata": {},
   "outputs": [
    {
     "data": {
      "text/plain": [
       "array(['Central America & Caribbean', 'North America', 'Southeast Asia',\n",
       "       'Western Europe', 'East Asia', 'South America', 'Eastern Europe',\n",
       "       'Sub-Saharan Africa', 'Middle East & North Africa',\n",
       "       'Australasia & Oceania', 'South Asia', 'Central Asia'],\n",
       "      dtype=object)"
      ]
     },
     "execution_count": 57,
     "metadata": {},
     "output_type": "execute_result"
    }
   ],
   "source": [
    "regions=df['region_txt'].unique()\n",
    "regions"
   ]
  },
  {
   "cell_type": "code",
   "execution_count": 58,
   "id": "boolean-giving",
   "metadata": {},
   "outputs": [
    {
     "data": {
      "text/plain": [
       "12"
      ]
     },
     "execution_count": 58,
     "metadata": {},
     "output_type": "execute_result"
    }
   ],
   "source": [
    "len(regions)"
   ]
  },
  {
   "cell_type": "code",
   "execution_count": 61,
   "id": "spiritual-november",
   "metadata": {},
   "outputs": [
    {
     "data": {
      "text/plain": [
       "Middle East & North Africa     50474\n",
       "South Asia                     44974\n",
       "South America                  18978\n",
       "Sub-Saharan Africa             17550\n",
       "Western Europe                 16639\n",
       "Southeast Asia                 12485\n",
       "Central America & Caribbean    10344\n",
       "Eastern Europe                  5144\n",
       "North America                   3456\n",
       "East Asia                        802\n",
       "Central Asia                     563\n",
       "Australasia & Oceania            282\n",
       "Name: region_txt, dtype: int64"
      ]
     },
     "execution_count": 61,
     "metadata": {},
     "output_type": "execute_result"
    }
   ],
   "source": [
    "regions_ncases=df['region_txt'].value_counts()\n",
    "regions_ncases"
   ]
  },
  {
   "cell_type": "code",
   "execution_count": 62,
   "id": "animated-personal",
   "metadata": {},
   "outputs": [
    {
     "data": {
      "text/plain": [
       "<AxesSubplot:>"
      ]
     },
     "execution_count": 62,
     "metadata": {},
     "output_type": "execute_result"
    },
    {
     "data": {
      "image/png": "[encoded data removed]",
      "text/plain": [
       "<Figure size 432x288 with 1 Axes>"
      ]
     },
     "metadata": {
      "needs_background": "light"
     },
     "output_type": "display_data"
    }
   ],
   "source": [
    "regions_ncases.plot(kind='barh')"
   ]
  },
  {
   "cell_type": "code",
   "execution_count": 71,
   "id": "characteristic-jacksonville",
   "metadata": {},
   "outputs": [
    {
     "data": {
      "text/plain": [
       "Iraq                        24636\n",
       "Turkey                       4292\n",
       "Yemen                        3347\n",
       "Algeria                      2743\n",
       "Egypt                        2479\n",
       "Lebanon                      2478\n",
       "Libya                        2249\n",
       "West Bank and Gaza Strip     2227\n",
       "Syria                        2201\n",
       "Israel                       2183\n",
       "Iran                          684\n",
       "Saudi Arabia                  371\n",
       "Bahrain                       207\n",
       "Jordan                        113\n",
       "Tunisia                       109\n",
       "Kuwait                         76\n",
       "Morocco                        36\n",
       "United Arab Emirates           22\n",
       "Qatar                           7\n",
       "North Yemen                     6\n",
       "Western Sahara                  5\n",
       "South Yemen                     2\n",
       "International                   1\n",
       "Name: country_txt, dtype: int64"
      ]
     },
     "execution_count": 71,
     "metadata": {},
     "output_type": "execute_result"
    }
   ],
   "source": [
    "Middle_east_SA_cases=df.groupby('region_txt').get_group('Middle East & North Africa')['country_txt'].value_counts()\n",
    "Middle_east_SA_cases"
   ]
  },
  {
   "cell_type": "code",
   "execution_count": 72,
   "id": "studied-diagnosis",
   "metadata": {},
   "outputs": [
    {
     "data": {
      "text/plain": [
       "Pakistan       14368\n",
       "Afghanistan    12731\n",
       "India          11960\n",
       "Sri Lanka       3022\n",
       "Bangladesh      1648\n",
       "Nepal           1215\n",
       "Maldives          22\n",
       "Bhutan             6\n",
       "Mauritius          2\n",
       "Name: country_txt, dtype: int64"
      ]
     },
     "execution_count": 72,
     "metadata": {},
     "output_type": "execute_result"
    }
   ],
   "source": [
    "Sounth_Asia_cases=df.groupby('region_txt').get_group('South Asia')['country_txt'].value_counts()\n",
    "Sounth_Asia_cases"
   ]
  },
  {
   "cell_type": "code",
   "execution_count": 74,
   "id": "strategic-liquid",
   "metadata": {},
   "outputs": [
    {
     "data": {
      "text/plain": [
       "United Kingdom        5235\n",
       "Spain                 3249\n",
       "France                2693\n",
       "Italy                 1565\n",
       "Greece                1275\n",
       "Germany                735\n",
       "West Germany (FRG)     541\n",
       "Ireland                307\n",
       "Belgium                154\n",
       "Portugal               140\n",
       "Sweden                 132\n",
       "Cyprus                 132\n",
       "Netherlands            130\n",
       "Austria                115\n",
       "Switzerland            111\n",
       "Denmark                 41\n",
       "Malta                   23\n",
       "Finland                 20\n",
       "Norway                  19\n",
       "Luxembourg              16\n",
       "Iceland                  4\n",
       "Vatican City             1\n",
       "Andorra                  1\n",
       "Name: country_txt, dtype: int64"
      ]
     },
     "execution_count": 74,
     "metadata": {},
     "output_type": "execute_result"
    }
   ],
   "source": [
    "Western_Europe_cases=df.groupby('region_txt').get_group('Western Europe')['country_txt'].value_counts()\n",
    "Western_Europe_cases"
   ]
  },
  {
   "cell_type": "code",
   "execution_count": 77,
   "id": "nominated-breach",
   "metadata": {},
   "outputs": [
    {
     "data": {
      "text/plain": [
       "array(['Dominican Republic', 'Mexico', 'Philippines', 'Greece', 'Japan',\n",
       "       'United States', 'Uruguay', 'Italy', 'East Germany (GDR)',\n",
       "       'Ethiopia', 'Guatemala', 'Venezuela', 'West Germany (FRG)',\n",
       "       'Switzerland', 'Jordan', 'Spain', 'Brazil', 'Egypt', 'Argentina',\n",
       "       'Lebanon', 'Ireland', 'Turkey', 'Paraguay', 'Iran',\n",
       "       'United Kingdom', 'Colombia', 'Bolivia', 'Nicaragua',\n",
       "       'Netherlands', 'Belgium', 'Canada', 'Australia', 'Pakistan',\n",
       "       'Zambia', 'Sweden', 'Costa Rica', 'South Yemen', 'Cambodia',\n",
       "       'Israel', 'Poland', 'Taiwan', 'Panama', 'Kuwait',\n",
       "       'West Bank and Gaza Strip', 'Austria', 'Czechoslovakia', 'India',\n",
       "       'France', 'South Vietnam', 'Brunei', 'Zaire',\n",
       "       \"People's Republic of the Congo\", 'Portugal', 'Algeria',\n",
       "       'El Salvador', 'Thailand', 'Haiti', 'Sudan', 'Morocco', 'Cyprus',\n",
       "       'Myanmar', 'Afghanistan', 'Peru', 'Chile', 'Honduras',\n",
       "       'Yugoslavia', 'Ecuador', 'New Zealand', 'Malaysia', 'Singapore',\n",
       "       'Botswana', 'Jamaica', 'Chad', 'North Yemen', 'Andorra', 'Syria',\n",
       "       'South Korea', 'United Arab Emirates', 'South Africa', 'Kenya',\n",
       "       'Iraq', 'Somalia', 'Tanzania', 'Sri Lanka', 'Namibia', 'Bahamas',\n",
       "       'Nigeria', 'Barbados', 'Trinidad and Tobago', 'Bangladesh',\n",
       "       'Angola', 'Mauritania', 'Saudi Arabia', 'Djibouti', 'Indonesia',\n",
       "       'Malta', 'Rhodesia', 'Soviet Union', 'Denmark', 'Western Sahara',\n",
       "       'Guyana', 'Mozambique', 'Tunisia', 'Uganda', 'Norway', 'Lesotho',\n",
       "       'Gabon', 'Libya', 'Bahrain', 'Hong Kong', 'Senegal', 'Zimbabwe',\n",
       "       'Guinea', 'Grenada', 'New Hebrides', 'Belize', 'Guadeloupe',\n",
       "       'Martinique', 'Vatican City', 'Albania',\n",
       "       'Central African Republic', 'Seychelles', 'Dominica', 'Qatar',\n",
       "       'Bulgaria', 'Suriname', 'Swaziland', 'Luxembourg', 'Iceland',\n",
       "       'French Guiana', 'Falkland Islands', 'Burkina Faso',\n",
       "       'New Caledonia', 'Romania', 'Niger', 'Nepal', 'Togo', 'Finland',\n",
       "       'Fiji', 'Ghana', 'Maldives', 'Mauritius', 'Hungary', 'Laos',\n",
       "       'Papua New Guinea', 'China', 'Liberia', 'Republic of the Congo',\n",
       "       'Mali', 'Germany', 'Yemen', 'Rwanda', 'Sierra Leone', 'Cameroon',\n",
       "       'Cuba', 'Croatia', 'Georgia', 'Azerbaijan', 'Madagascar',\n",
       "       'Lithuania', 'Burundi', 'Ukraine', 'Moldova', 'Armenia', 'Russia',\n",
       "       'Ivory Coast', 'Kazakhstan', 'Antigua and Barbuda',\n",
       "       'Bosnia-Herzegovina', 'Equatorial Guinea', 'Tajikistan', 'Malawi',\n",
       "       'Uzbekistan', 'Latvia', 'Estonia', 'Vietnam', 'Comoros', 'Benin',\n",
       "       'Slovak Republic', 'Macedonia', 'Wallis and Futuna', 'Belarus',\n",
       "       'Czech Republic', 'Slovenia', 'Gambia', 'North Korea', 'Eritrea',\n",
       "       'St. Kitts and Nevis', 'French Polynesia', 'Macau', 'Kyrgyzstan',\n",
       "       'Vanuatu', 'Democratic Republic of the Congo', 'Kosovo',\n",
       "       'Solomon Islands', 'East Timor', 'St. Lucia', 'Guinea-Bissau',\n",
       "       'Montenegro', 'International', 'Turkmenistan', 'Serbia-Montenegro',\n",
       "       'Bhutan', 'Serbia', 'South Sudan'], dtype=object)"
      ]
     },
     "execution_count": 77,
     "metadata": {},
     "output_type": "execute_result"
    }
   ],
   "source": [
    "countries=df['country_txt'].unique()\n",
    "countries"
   ]
  },
  {
   "cell_type": "code",
   "execution_count": 79,
   "id": "expired-candy",
   "metadata": {},
   "outputs": [
    {
     "data": {
      "text/plain": [
       "205"
      ]
     },
     "execution_count": 79,
     "metadata": {},
     "output_type": "execute_result"
    }
   ],
   "source": [
    "len(countries)"
   ]
  },
  {
   "cell_type": "code",
   "execution_count": 80,
   "id": "adopted-delight",
   "metadata": {},
   "outputs": [
    {
     "data": {
      "text/plain": [
       "Iraq                 24636\n",
       "Pakistan             14368\n",
       "Afghanistan          12731\n",
       "India                11960\n",
       "Colombia              8306\n",
       "                     ...  \n",
       "Vatican City             1\n",
       "North Korea              1\n",
       "Andorra                  1\n",
       "International            1\n",
       "Wallis and Futuna        1\n",
       "Name: country_txt, Length: 205, dtype: int64"
      ]
     },
     "execution_count": 80,
     "metadata": {},
     "output_type": "execute_result"
    }
   ],
   "source": [
    "countries_cases=df['country_txt'].value_counts()\n",
    "countries_cases"
   ]
  },
  {
   "cell_type": "code",
   "execution_count": 183,
   "id": "incredible-wilson",
   "metadata": {},
   "outputs": [
    {
     "data": {
      "text/plain": [
       "Iraq              24636\n",
       "Pakistan          14368\n",
       "Afghanistan       12731\n",
       "India             11960\n",
       "Colombia           8306\n",
       "Philippines        6908\n",
       "Peru               6096\n",
       "El Salvador        5320\n",
       "United Kingdom     5235\n",
       "Turkey             4292\n",
       "Somalia            4142\n",
       "Nigeria            3907\n",
       "Thailand           3849\n",
       "Yemen              3347\n",
       "Spain              3249\n",
       "Sri Lanka          3022\n",
       "United States      2836\n",
       "Algeria            2743\n",
       "France             2693\n",
       "Egypt              2479\n",
       "Name: country_txt, dtype: int64"
      ]
     },
     "execution_count": 183,
     "metadata": {},
     "output_type": "execute_result"
    }
   ],
   "source": [
    "countries_cases[:20]"
   ]
  },
  {
   "cell_type": "code",
   "execution_count": 185,
   "id": "rocky-transparency",
   "metadata": {},
   "outputs": [
    {
     "data": {
      "text/plain": [
       "Iraq                                2466\n",
       "Afghanistan                         1414\n",
       "India                                966\n",
       "Pakistan                             719\n",
       "Philippines                          692\n",
       "Somalia                              614\n",
       "Nigeria                              484\n",
       "Nepal                                247\n",
       "Syria                                243\n",
       "Yemen                                226\n",
       "Egypt                                224\n",
       "Libya                                190\n",
       "Turkey                               181\n",
       "Thailand                             179\n",
       "Democratic Republic of the Congo     143\n",
       "Mali                                 141\n",
       "United Kingdom                       122\n",
       "Colombia                             117\n",
       "Myanmar                              115\n",
       "Sudan                                106\n",
       "Name: country_txt, dtype: int64"
      ]
     },
     "execution_count": 185,
     "metadata": {},
     "output_type": "execute_result"
    }
   ],
   "source": [
    "df.groupby('iyear').get_group(2017)['country_txt'].value_counts()[:20]"
   ]
  },
  {
   "cell_type": "code",
   "execution_count": 186,
   "id": "blind-korean",
   "metadata": {},
   "outputs": [
    {
     "data": {
      "text/plain": [
       "Mosul               479\n",
       "Baghdad             378\n",
       "Unknown             364\n",
       "Mogadishu           219\n",
       "Arish               106\n",
       "Kabul                94\n",
       "Maiduguri            66\n",
       "Quetta               51\n",
       "Benghazi             49\n",
       "Karachi              42\n",
       "Kirkuk               37\n",
       "Hawijah district     34\n",
       "Imphal               34\n",
       "Abu Ghraib           33\n",
       "Nahrawan             32\n",
       "Belfast              31\n",
       "Radhwaniyah          31\n",
       "Athens               31\n",
       "Jalalabad            30\n",
       "Qarah Tapah          30\n",
       "Name: city, dtype: int64"
      ]
     },
     "execution_count": 186,
     "metadata": {},
     "output_type": "execute_result"
    }
   ],
   "source": [
    "df.groupby('iyear').get_group(2017)['city'].value_counts()[:20]"
   ]
  },
  {
   "cell_type": "code",
   "execution_count": 83,
   "id": "hindu-stationery",
   "metadata": {},
   "outputs": [
    {
     "data": {
      "text/plain": [
       "Baghdad         7644\n",
       "Saladin         3411\n",
       "Al Anbar        3299\n",
       "Nineveh         3241\n",
       "Diyala          3041\n",
       "Kirkuk          1669\n",
       "Babil           1110\n",
       "Basra            266\n",
       "Unknown          148\n",
       "Karbala          142\n",
       "At Tamim         125\n",
       "Wasit            121\n",
       "Arbil             99\n",
       "Dhi Qar           66\n",
       "Sulaymaniyah      60\n",
       "Najaf             53\n",
       "Maysan            31\n",
       "Al Qadisiyah      30\n",
       "Dihok             29\n",
       "Qadisiyah         27\n",
       "Muthanna          20\n",
       "Kunar              1\n",
       "Khost              1\n",
       "unknown            1\n",
       "NIneveh            1\n",
       "Name: provstate, dtype: int64"
      ]
     },
     "execution_count": 83,
     "metadata": {},
     "output_type": "execute_result"
    }
   ],
   "source": [
    "Iraq_prov_cases=df.groupby('country_txt').get_group('Iraq')['provstate'].value_counts()\n",
    "Iraq_prov_cases"
   ]
  },
  {
   "cell_type": "code",
   "execution_count": 85,
   "id": "composed-youth",
   "metadata": {},
   "outputs": [
    {
     "data": {
      "text/plain": [
       "Baghdad         7585\n",
       "Mosul           2265\n",
       "Kirkuk           925\n",
       "Baqubah          745\n",
       "Fallujah         579\n",
       "Unknown          562\n",
       "Ramadi           509\n",
       "Tikrit           418\n",
       "Abu Ghraib       324\n",
       "Tuz Khormato     277\n",
       "Name: city, dtype: int64"
      ]
     },
     "execution_count": 85,
     "metadata": {},
     "output_type": "execute_result"
    }
   ],
   "source": [
    "Iraq_city_cases=Iraq_prov_cases=df.groupby('country_txt').get_group('Iraq')['city'].value_counts()\n",
    "Iraq_city_cases[:10]"
   ]
  },
  {
   "cell_type": "code",
   "execution_count": 96,
   "id": "solved-disney",
   "metadata": {},
   "outputs": [
    {
     "data": {
      "text/plain": [
       "2014    3933\n",
       "2016    3360\n",
       "2013    2852\n",
       "2015    2751\n",
       "2017    2466\n",
       "2012    1437\n",
       "2011    1308\n",
       "2010    1179\n",
       "2009    1137\n",
       "2008    1106\n",
       "2007    1047\n",
       "2006     838\n",
       "2005     617\n",
       "2004     323\n",
       "2003     102\n",
       "1992      35\n",
       "1997      21\n",
       "1994      18\n",
       "1995      17\n",
       "1996      12\n",
       "1999      12\n",
       "2000      10\n",
       "1998       7\n",
       "2002       6\n",
       "1980       6\n",
       "1982       5\n",
       "1989       4\n",
       "1988       4\n",
       "1987       3\n",
       "1981       3\n",
       "1976       3\n",
       "1991       3\n",
       "2001       3\n",
       "1983       3\n",
       "1979       2\n",
       "1984       2\n",
       "1975       1\n",
       "Name: iyear, dtype: int64"
      ]
     },
     "execution_count": 96,
     "metadata": {},
     "output_type": "execute_result"
    }
   ],
   "source": [
    "Iraq_year_cases=df.groupby('country_txt').get_group('Iraq')['iyear'].value_counts()\n",
    "Iraq_year_cases"
   ]
  },
  {
   "cell_type": "code",
   "execution_count": 104,
   "id": "played-grounds",
   "metadata": {},
   "outputs": [
    {
     "data": {
      "image/png": "[encoded data removed]",
      "text/plain": [
       "<Figure size 720x360 with 1 Axes>"
      ]
     },
     "metadata": {
      "needs_background": "light"
     },
     "output_type": "display_data"
    }
   ],
   "source": [
    "plt.figure(figsize=(10,5))\n",
    "Iraq_year_cases.plot()\n",
    "# plt.title('growth in sales')\n",
    "plt.xlabel('year')\n",
    "plt.ylabel('cases')\n",
    "plt.show()"
   ]
  },
  {
   "cell_type": "code",
   "execution_count": 105,
   "id": "royal-scanning",
   "metadata": {},
   "outputs": [],
   "source": [
    "# plt.plot(Iraq_year_cases.keys(),Iraq_year_cases)\n",
    "# plt.title('growth in sales')\n",
    "# plt.xlabel('money')\n",
    "# plt.ylabel('time')\n",
    "# plt.show()"
   ]
  },
  {
   "cell_type": "code",
   "execution_count": 90,
   "id": "numerical-thumbnail",
   "metadata": {},
   "outputs": [
    {
     "data": {
      "text/plain": [
       "2017"
      ]
     },
     "execution_count": 90,
     "metadata": {},
     "output_type": "execute_result"
    }
   ],
   "source": [
    "df['iyear'].max()"
   ]
  },
  {
   "cell_type": "code",
   "execution_count": 91,
   "id": "tested-administrator",
   "metadata": {},
   "outputs": [
    {
     "data": {
      "text/plain": [
       "1970"
      ]
     },
     "execution_count": 91,
     "metadata": {},
     "output_type": "execute_result"
    }
   ],
   "source": [
    "df['iyear'].min()"
   ]
  },
  {
   "cell_type": "code",
   "execution_count": 134,
   "id": "comic-wallace",
   "metadata": {},
   "outputs": [
    {
     "data": {
      "text/plain": [
       "2466"
      ]
     },
     "execution_count": 134,
     "metadata": {},
     "output_type": "execute_result"
    }
   ],
   "source": [
    "Iraq_2017_cases_total=Iraq_year_cases.loc[2017]\n",
    "Iraq_2017_cases_total"
   ]
  },
  {
   "cell_type": "code",
   "execution_count": 121,
   "id": "tight-thinking",
   "metadata": {},
   "outputs": [
    {
     "name": "stderr",
     "output_type": "stream",
     "text": [
      "<ipython-input-121-7475e0a7686f>:1: UserWarning: Boolean Series key will be reindexed to match DataFrame index.\n",
      "  Iraq_monthwise_cases_2017=df.groupby('country_txt').get_group('Iraq')[df['iyear']==2017]['imonth'].value_counts()\n"
     ]
    },
    {
     "data": {
      "text/plain": [
       "6     285\n",
       "2     258\n",
       "5     255\n",
       "3     221\n",
       "7     212\n",
       "8     206\n",
       "4     197\n",
       "1     197\n",
       "9     182\n",
       "10    158\n",
       "11    158\n",
       "12    137\n",
       "Name: imonth, dtype: int64"
      ]
     },
     "execution_count": 121,
     "metadata": {},
     "output_type": "execute_result"
    }
   ],
   "source": [
    "Iraq_monthwise_cases_2017=df.groupby('country_txt').get_group('Iraq')[df['iyear']==2017]['imonth'].value_counts()\n",
    "Iraq_monthwise_cases_2017"
   ]
  },
  {
   "cell_type": "code",
   "execution_count": 122,
   "id": "recent-longer",
   "metadata": {},
   "outputs": [
    {
     "data": {
      "text/plain": [
       "<AxesSubplot:>"
      ]
     },
     "execution_count": 122,
     "metadata": {},
     "output_type": "execute_result"
    },
    {
     "data": {
      "image/png": "[encoded data removed]",
      "text/plain": [
       "<Figure size 432x288 with 1 Axes>"
      ]
     },
     "metadata": {
      "needs_background": "light"
     },
     "output_type": "display_data"
    }
   ],
   "source": [
    "Iraq_monthwise_cases_2017.plot(kind='barh')"
   ]
  },
  {
   "cell_type": "code",
   "execution_count": 123,
   "id": "private-simple",
   "metadata": {},
   "outputs": [
    {
     "data": {
      "text/plain": [
       "205.5"
      ]
     },
     "execution_count": 123,
     "metadata": {},
     "output_type": "execute_result"
    }
   ],
   "source": [
    "Iraq_monthwise_cases_2017.mean()"
   ]
  },
  {
   "cell_type": "code",
   "execution_count": 137,
   "id": "incomplete-exhibit",
   "metadata": {},
   "outputs": [
    {
     "data": {
      "text/plain": [
       "6.756164383561644"
      ]
     },
     "execution_count": 137,
     "metadata": {},
     "output_type": "execute_result"
    }
   ],
   "source": [
    "Iraq_2017_cases_total/365"
   ]
  },
  {
   "cell_type": "code",
   "execution_count": 138,
   "id": "leading-offering",
   "metadata": {},
   "outputs": [
    {
     "name": "stderr",
     "output_type": "stream",
     "text": [
      "<ipython-input-138-797b4985e605>:1: UserWarning: Boolean Series key will be reindexed to match DataFrame index.\n",
      "  Iraq_daywise_cases_june_2017=df.groupby('country_txt').get_group('Iraq')[df['iyear']==2017][df['imonth']==6]['iday'].value_counts()\n",
      "<ipython-input-138-797b4985e605>:1: UserWarning: Boolean Series key will be reindexed to match DataFrame index.\n",
      "  Iraq_daywise_cases_june_2017=df.groupby('country_txt').get_group('Iraq')[df['iyear']==2017][df['imonth']==6]['iday'].value_counts()\n"
     ]
    },
    {
     "data": {
      "text/plain": [
       "10    24\n",
       "14    17\n",
       "28    16\n",
       "3     15\n",
       "18    15\n",
       "23    13\n",
       "1     11\n",
       "5     11\n",
       "6     11\n",
       "26    11\n",
       "15    11\n",
       "25    10\n",
       "16    10\n",
       "9     10\n",
       "8     10\n",
       "2      9\n",
       "13     8\n",
       "24     8\n",
       "30     8\n",
       "20     7\n",
       "21     7\n",
       "7      7\n",
       "12     6\n",
       "19     6\n",
       "29     6\n",
       "22     6\n",
       "27     4\n",
       "11     3\n",
       "4      3\n",
       "17     2\n",
       "Name: iday, dtype: int64"
      ]
     },
     "execution_count": 138,
     "metadata": {},
     "output_type": "execute_result"
    }
   ],
   "source": [
    "Iraq_daywise_cases_june_2017=df.groupby('country_txt').get_group('Iraq')[df['iyear']==2017][df['imonth']==6]['iday'].value_counts()\n",
    "Iraq_daywise_cases_june_2017"
   ]
  },
  {
   "cell_type": "code",
   "execution_count": 141,
   "id": "acoustic-average",
   "metadata": {},
   "outputs": [
    {
     "data": {
      "text/plain": [
       "<AxesSubplot:>"
      ]
     },
     "execution_count": 141,
     "metadata": {},
     "output_type": "execute_result"
    },
    {
     "data": {
      "image/png": "[encoded data removed]",
      "text/plain": [
       "<Figure size 720x432 with 1 Axes>"
      ]
     },
     "metadata": {
      "needs_background": "light"
     },
     "output_type": "display_data"
    }
   ],
   "source": [
    "plt.figure(figsize=(10,6))\n",
    "Iraq_daywise_cases_june_2017.plot(kind='barh')"
   ]
  },
  {
   "cell_type": "code",
   "execution_count": 143,
   "id": "frequent-research",
   "metadata": {},
   "outputs": [
    {
     "name": "stderr",
     "output_type": "stream",
     "text": [
      "<ipython-input-143-e9692159590c>:1: UserWarning: Boolean Series key will be reindexed to match DataFrame index.\n",
      "  df.groupby('country_txt').get_group('Iraq')[df['iyear']==2017][df['imonth']==6][df['iday']==10]['city'].value_counts()\n",
      "<ipython-input-143-e9692159590c>:1: UserWarning: Boolean Series key will be reindexed to match DataFrame index.\n",
      "  df.groupby('country_txt').get_group('Iraq')[df['iyear']==2017][df['imonth']==6][df['iday']==10]['city'].value_counts()\n",
      "<ipython-input-143-e9692159590c>:1: UserWarning: Boolean Series key will be reindexed to match DataFrame index.\n",
      "  df.groupby('country_txt').get_group('Iraq')[df['iyear']==2017][df['imonth']==6][df['iday']==10]['city'].value_counts()\n"
     ]
    },
    {
     "data": {
      "text/plain": [
       "Mosul               18\n",
       "Baghdad              1\n",
       "Kifri district       1\n",
       "Anaz                 1\n",
       "Shirqat district     1\n",
       "Baiji district       1\n",
       "Hawr Rajab           1\n",
       "Name: city, dtype: int64"
      ]
     },
     "execution_count": 143,
     "metadata": {},
     "output_type": "execute_result"
    }
   ],
   "source": [
    "df.groupby('country_txt').get_group('Iraq')[df['iyear']==2017][df['imonth']==6][df['iday']==10]['city'].value_counts()"
   ]
  },
  {
   "cell_type": "code",
   "execution_count": 149,
   "id": "received-lodging",
   "metadata": {},
   "outputs": [
    {
     "name": "stderr",
     "output_type": "stream",
     "text": [
      "<ipython-input-149-b839fc294ae3>:1: UserWarning: Boolean Series key will be reindexed to match DataFrame index.\n",
      "  Iraq_citywise_cases_2017=df.groupby('country_txt').get_group('Iraq')[df['iyear']==2017]['city'].value_counts()\n"
     ]
    },
    {
     "data": {
      "text/plain": [
       "Mosul               479\n",
       "Baghdad             376\n",
       "Unknown              67\n",
       "Kirkuk               37\n",
       "Hawijah district     34\n",
       "Abu Ghraib           33\n",
       "Nahrawan             32\n",
       "Radhwaniyah          31\n",
       "Qarah Tapah          30\n",
       "Taji                 29\n",
       "Madain               28\n",
       "Tarmiyah             27\n",
       "Ramadi               26\n",
       "Tal Afar             25\n",
       "Basra                21\n",
       "Tikrit               19\n",
       "Baqubah              19\n",
       "Al-Halabisah         19\n",
       "Yusufiyah            17\n",
       "Fallujah             15\n",
       "Name: city, dtype: int64"
      ]
     },
     "execution_count": 149,
     "metadata": {},
     "output_type": "execute_result"
    }
   ],
   "source": [
    "Iraq_citywise_cases_2017=df.groupby('country_txt').get_group('Iraq')[df['iyear']==2017]['city'].value_counts()\n",
    "Iraq_citywise_cases_2017[:20]"
   ]
  },
  {
   "cell_type": "code",
   "execution_count": 152,
   "id": "pretty-delivery",
   "metadata": {},
   "outputs": [
    {
     "data": {
      "text/plain": [
       "<AxesSubplot:>"
      ]
     },
     "execution_count": 152,
     "metadata": {},
     "output_type": "execute_result"
    },
    {
     "data": {
      "image/png": "[encoded data removed]",
      "text/plain": [
       "<Figure size 432x288 with 1 Axes>"
      ]
     },
     "metadata": {
      "needs_background": "light"
     },
     "output_type": "display_data"
    }
   ],
   "source": [
    "# plt.figure(figsize=(6,10))\n",
    "Iraq_citywise_cases_2017[:20].plot(kind='barh')"
   ]
  },
  {
   "cell_type": "code",
   "execution_count": 155,
   "id": "ruled-festival",
   "metadata": {},
   "outputs": [
    {
     "name": "stderr",
     "output_type": "stream",
     "text": [
      "<ipython-input-155-1feb50a5b298>:1: UserWarning: Boolean Series key will be reindexed to match DataFrame index.\n",
      "  attacktype1_Iraq_cases_2017=df.groupby('country_txt').get_group('Iraq')[df['iyear']==2017]['attacktype1_txt'].value_counts()\n"
     ]
    },
    {
     "data": {
      "text/plain": [
       "Bombing/Explosion                      1866\n",
       "Unknown                                 220\n",
       "Armed Assault                           187\n",
       "Hostage Taking (Kidnapping)             115\n",
       "Assassination                            50\n",
       "Facility/Infrastructure Attack           22\n",
       "Hijacking                                 2\n",
       "Unarmed Assault                           2\n",
       "Hostage Taking (Barricade Incident)       2\n",
       "Name: attacktype1_txt, dtype: int64"
      ]
     },
     "execution_count": 155,
     "metadata": {},
     "output_type": "execute_result"
    }
   ],
   "source": [
    "attacktype1_Iraq_cases_2017=df.groupby('country_txt').get_group('Iraq')[df['iyear']==2017]['attacktype1_txt'].value_counts()\n",
    "attacktype1_Iraq_cases_2017"
   ]
  },
  {
   "cell_type": "code",
   "execution_count": 156,
   "id": "alike-answer",
   "metadata": {},
   "outputs": [
    {
     "name": "stderr",
     "output_type": "stream",
     "text": [
      "<ipython-input-156-b4f116a7b6c5>:1: UserWarning: Boolean Series key will be reindexed to match DataFrame index.\n",
      "  df.groupby('country_txt').get_group('Iraq')[df['iyear']==2017]['targtype1_txt'].value_counts()\n"
     ]
    },
    {
     "data": {
      "text/plain": [
       "Private Citizens & Property       894\n",
       "Military                          553\n",
       "Unknown                           441\n",
       "Business                          214\n",
       "Police                            177\n",
       "Government (General)               70\n",
       "Utilities                          32\n",
       "Terrorists/Non-State Militia       23\n",
       "Religious Figures/Institutions     16\n",
       "Educational Institution            14\n",
       "Journalists & Media                12\n",
       "Transportation                      9\n",
       "Violent Political Party             7\n",
       "NGO                                 1\n",
       "Other                               1\n",
       "Telecommunication                   1\n",
       "Airports & Aircraft                 1\n",
       "Name: targtype1_txt, dtype: int64"
      ]
     },
     "execution_count": 156,
     "metadata": {},
     "output_type": "execute_result"
    }
   ],
   "source": [
    "df.groupby('country_txt').get_group('Iraq')[df['iyear']==2017]['targtype1_txt'].value_counts()"
   ]
  },
  {
   "cell_type": "code",
   "execution_count": 157,
   "id": "handmade-repository",
   "metadata": {},
   "outputs": [
    {
     "name": "stderr",
     "output_type": "stream",
     "text": [
      "<ipython-input-157-b4f116a7b6c5>:1: UserWarning: Boolean Series key will be reindexed to match DataFrame index.\n",
      "  df.groupby('country_txt').get_group('Iraq')[df['iyear']==2017]['targtype1_txt'].value_counts()\n"
     ]
    },
    {
     "data": {
      "text/plain": [
       "Private Citizens & Property       894\n",
       "Military                          553\n",
       "Unknown                           441\n",
       "Business                          214\n",
       "Police                            177\n",
       "Government (General)               70\n",
       "Utilities                          32\n",
       "Terrorists/Non-State Militia       23\n",
       "Religious Figures/Institutions     16\n",
       "Educational Institution            14\n",
       "Journalists & Media                12\n",
       "Transportation                      9\n",
       "Violent Political Party             7\n",
       "NGO                                 1\n",
       "Other                               1\n",
       "Telecommunication                   1\n",
       "Airports & Aircraft                 1\n",
       "Name: targtype1_txt, dtype: int64"
      ]
     },
     "execution_count": 157,
     "metadata": {},
     "output_type": "execute_result"
    }
   ],
   "source": [
    "df.groupby('country_txt').get_group('Iraq')[df['iyear']==2017]['targtype1_txt'].value_counts()"
   ]
  },
  {
   "cell_type": "code",
   "execution_count": 158,
   "id": "super-flash",
   "metadata": {},
   "outputs": [
    {
     "name": "stderr",
     "output_type": "stream",
     "text": [
      "<ipython-input-158-3c2708310aaf>:1: UserWarning: Boolean Series key will be reindexed to match DataFrame index.\n",
      "  df.groupby('country_txt').get_group('Iraq')[df['iyear']==2017]['weaptype1_txt'].value_counts()\n"
     ]
    },
    {
     "data": {
      "text/plain": [
       "Explosives                                                                     1882\n",
       "Unknown                                                                         287\n",
       "Firearms                                                                        246\n",
       "Incendiary                                                                       23\n",
       "Chemical                                                                         17\n",
       "Melee                                                                             9\n",
       "Vehicle (not to include vehicle-borne explosives, i.e., car or truck bombs)       1\n",
       "Sabotage Equipment                                                                1\n",
       "Name: weaptype1_txt, dtype: int64"
      ]
     },
     "execution_count": 158,
     "metadata": {},
     "output_type": "execute_result"
    }
   ],
   "source": [
    "df.groupby('country_txt').get_group('Iraq')[df['iyear']==2017]['weaptype1_txt'].value_counts()"
   ]
  },
  {
   "cell_type": "code",
   "execution_count": 162,
   "id": "stopped-louisville",
   "metadata": {},
   "outputs": [
    {
     "name": "stderr",
     "output_type": "stream",
     "text": [
      "<ipython-input-162-e22c8ba2f200>:1: UserWarning: Boolean Series key will be reindexed to match DataFrame index.\n",
      "  df.groupby('country_txt').get_group('Iraq')[df['iyear']==2017]['nkill'].value_counts()\n"
     ]
    },
    {
     "data": {
      "text/plain": [
       "0.0      1073\n",
       "1.0       556\n",
       "2.0       193\n",
       "3.0       115\n",
       "4.0        85\n",
       "5.0        64\n",
       "7.0        30\n",
       "6.0        25\n",
       "10.0       24\n",
       "8.0        21\n",
       "12.0       17\n",
       "9.0        16\n",
       "17.0       14\n",
       "11.0       12\n",
       "13.0       10\n",
       "16.0        7\n",
       "20.0        7\n",
       "15.0        6\n",
       "36.0        5\n",
       "14.0        4\n",
       "23.0        4\n",
       "30.0        3\n",
       "28.0        3\n",
       "18.0        3\n",
       "35.0        2\n",
       "26.0        2\n",
       "37.0        2\n",
       "41.0        2\n",
       "24.0        2\n",
       "25.0        2\n",
       "27.0        2\n",
       "32.0        2\n",
       "45.0        2\n",
       "34.0        2\n",
       "40.0        1\n",
       "75.0        1\n",
       "100.0       1\n",
       "19.0        1\n",
       "44.0        1\n",
       "46.0        1\n",
       "29.0        1\n",
       "163.0       1\n",
       "49.0        1\n",
       "200.0       1\n",
       "230.0       1\n",
       "151.0       1\n",
       "93.0        1\n",
       "39.0        1\n",
       "21.0        1\n",
       "64.0        1\n",
       "Name: nkill, dtype: int64"
      ]
     },
     "execution_count": 162,
     "metadata": {},
     "output_type": "execute_result"
    }
   ],
   "source": [
    "df.groupby('country_txt').get_group('Iraq')[df['iyear']==2017]['nkill'].value_counts()"
   ]
  },
  {
   "cell_type": "code",
   "execution_count": 169,
   "id": "magnetic-society",
   "metadata": {},
   "outputs": [
    {
     "name": "stderr",
     "output_type": "stream",
     "text": [
      "<ipython-input-169-ba1fb9f7effe>:1: UserWarning: Boolean Series key will be reindexed to match DataFrame index.\n",
      "  df.groupby('country_txt').get_group('Iraq')[df['iyear']==2017]['nkill'].mean()\n"
     ]
    },
    {
     "data": {
      "text/plain": [
       "2.775825117873982"
      ]
     },
     "execution_count": 169,
     "metadata": {},
     "output_type": "execute_result"
    }
   ],
   "source": [
    "df.groupby('country_txt').get_group('Iraq')[df['iyear']==2017]['nkill'].mean()"
   ]
  },
  {
   "cell_type": "code",
   "execution_count": 171,
   "id": "impossible-assignment",
   "metadata": {},
   "outputs": [
    {
     "name": "stderr",
     "output_type": "stream",
     "text": [
      "<ipython-input-171-02a1bfad689e>:1: UserWarning: Boolean Series key will be reindexed to match DataFrame index.\n",
      "  df.groupby('country_txt').get_group('Iraq')[df['iyear']==2017]['nkill'].sort_values(ascending=False)\n"
     ]
    },
    {
     "data": {
      "text/plain": [
       "173221    230.0\n",
       "176624    200.0\n",
       "175454    163.0\n",
       "173425    151.0\n",
       "176188    100.0\n",
       "          ...  \n",
       "181070      NaN\n",
       "181147      NaN\n",
       "181196      NaN\n",
       "181244      NaN\n",
       "181640      NaN\n",
       "Name: nkill, Length: 2466, dtype: float64"
      ]
     },
     "execution_count": 171,
     "metadata": {},
     "output_type": "execute_result"
    }
   ],
   "source": [
    "df.groupby('country_txt').get_group('Iraq')[df['iyear']==2017]['nkill'].sort_values(ascending=False)"
   ]
  },
  {
   "cell_type": "code",
   "execution_count": 175,
   "id": "tamil-amount",
   "metadata": {},
   "outputs": [
    {
     "name": "stderr",
     "output_type": "stream",
     "text": [
      "<ipython-input-175-5725b7bfbf6c>:1: UserWarning: Boolean Series key will be reindexed to match DataFrame index.\n",
      "  len(df.groupby('country_txt').get_group('Iraq')[df['iyear']==2017][df['nkill']>=20])\n",
      "<ipython-input-175-5725b7bfbf6c>:1: UserWarning: Boolean Series key will be reindexed to match DataFrame index.\n",
      "  len(df.groupby('country_txt').get_group('Iraq')[df['iyear']==2017][df['nkill']>=20])\n"
     ]
    },
    {
     "data": {
      "text/plain": [
       "57"
      ]
     },
     "execution_count": 175,
     "metadata": {},
     "output_type": "execute_result"
    }
   ],
   "source": [
    "len(df.groupby('country_txt').get_group('Iraq')[df['iyear']==2017][df['nkill']>=20])"
   ]
  },
  {
   "cell_type": "code",
   "execution_count": 176,
   "id": "three-respect",
   "metadata": {},
   "outputs": [
    {
     "name": "stderr",
     "output_type": "stream",
     "text": [
      "<ipython-input-176-cc7f314eeeaf>:1: UserWarning: Boolean Series key will be reindexed to match DataFrame index.\n",
      "  df.groupby('country_txt').get_group('Iraq')[df['iyear']==2017][df['nkill']>=20]['city'].value_counts()\n",
      "<ipython-input-176-cc7f314eeeaf>:1: UserWarning: Boolean Series key will be reindexed to match DataFrame index.\n",
      "  df.groupby('country_txt').get_group('Iraq')[df['iyear']==2017][df['nkill']>=20]['city'].value_counts()\n"
     ]
    },
    {
     "data": {
      "text/plain": [
       "Mosul                    19\n",
       "Baghdad                   3\n",
       "Ramadi                    2\n",
       "Waleed                    2\n",
       "Hawijah                   2\n",
       "Tal Afar                  2\n",
       "Nasiriyah                 2\n",
       "Hatra district            2\n",
       "Unknown                   2\n",
       "Tall Safouk               2\n",
       "Shirqat                   1\n",
       "Samarra                   1\n",
       "As Sakran                 1\n",
       "Ain al-Hassan             1\n",
       "Musayyib                  1\n",
       "Tuz Khormato              1\n",
       "Rutbah                    1\n",
       "Khubayrat                 1\n",
       "Jurf al-Sakhar            1\n",
       "Nukhayb                   1\n",
       "Hajaf                     1\n",
       "Tal Kasibah               1\n",
       "Khanukah                  1\n",
       "Vefa                      1\n",
       "Akashat                   1\n",
       "Rawah                     1\n",
       "Bakhirah                  1\n",
       "Tikrit                    1\n",
       "Tuz Khormato district     1\n",
       "Name: city, dtype: int64"
      ]
     },
     "execution_count": 176,
     "metadata": {},
     "output_type": "execute_result"
    }
   ],
   "source": [
    "df.groupby('country_txt').get_group('Iraq')[df['iyear']==2017][df['nkill']>=20]['city'].value_counts()"
   ]
  },
  {
   "cell_type": "code",
   "execution_count": 180,
   "id": "hollywood-catch",
   "metadata": {},
   "outputs": [
    {
     "name": "stderr",
     "output_type": "stream",
     "text": [
      "<ipython-input-180-bd23506991b2>:1: UserWarning: Boolean Series key will be reindexed to match DataFrame index.\n",
      "  df.groupby('country_txt').get_group('Iraq')[df['iyear']==2017]['nkill'].sum()\n"
     ]
    },
    {
     "data": {
      "text/plain": [
       "6476.0"
      ]
     },
     "execution_count": 180,
     "metadata": {},
     "output_type": "execute_result"
    }
   ],
   "source": [
    "df.groupby('country_txt').get_group('Iraq')[df['iyear']==2017]['nkill'].sum()"
   ]
  },
  {
   "cell_type": "code",
   "execution_count": 181,
   "id": "international-funeral",
   "metadata": {},
   "outputs": [
    {
     "data": {
      "text/plain": [
       "78589.0"
      ]
     },
     "execution_count": 181,
     "metadata": {},
     "output_type": "execute_result"
    }
   ],
   "source": [
    "df.groupby('country_txt').get_group('Iraq')['nkill'].sum()"
   ]
  },
  {
   "cell_type": "code",
   "execution_count": 187,
   "id": "institutional-affiliate",
   "metadata": {},
   "outputs": [
    {
     "data": {
      "text/plain": [
       "Balochistan                            3710\n",
       "Sindh                                  3206\n",
       "Khyber Pakhtunkhwa                     3084\n",
       "Federally Administered Tribal Areas    2392\n",
       "North-West Frontier Province            866\n",
       "Punjab                                  829\n",
       "Islamabad Capital Territory             154\n",
       "Unknown                                  49\n",
       "Gilgit-Baltistan                         47\n",
       "Azad Kashmir                             30\n",
       "SIndh                                     1\n",
       "Name: provstate, dtype: int64"
      ]
     },
     "execution_count": 187,
     "metadata": {},
     "output_type": "execute_result"
    }
   ],
   "source": [
    "df.groupby('country_txt').get_group('Pakistan')['provstate'].value_counts()"
   ]
  },
  {
   "cell_type": "code",
   "execution_count": 189,
   "id": "twenty-heath",
   "metadata": {},
   "outputs": [
    {
     "data": {
      "text/plain": [
       "Karachi             2651\n",
       "Peshawar             819\n",
       "Quetta               803\n",
       "Lahore               233\n",
       "Jamrud               160\n",
       "Bara                 157\n",
       "Dera Bugti           152\n",
       "Islamabad            146\n",
       "Landi Kotal          144\n",
       "Bannu                144\n",
       "Mohmand district     138\n",
       "Unknown              131\n",
       "Hangu                129\n",
       "Dera Ismail Khan     124\n",
       "Bajaur district      122\n",
       "Sui                  116\n",
       "Rawalpindi           111\n",
       "Turbat               108\n",
       "Miran Shah           108\n",
       "Hyderabad            105\n",
       "Name: city, dtype: int64"
      ]
     },
     "execution_count": 189,
     "metadata": {},
     "output_type": "execute_result"
    }
   ],
   "source": [
    "df.groupby('country_txt').get_group('Pakistan')['city'].value_counts()[:20]"
   ]
  },
  {
   "cell_type": "code",
   "execution_count": 191,
   "id": "satellite-castle",
   "metadata": {},
   "outputs": [
    {
     "data": {
      "text/plain": [
       "2013    2215\n",
       "2014    2151\n",
       "2012    1654\n",
       "2015    1243\n",
       "2011    1012\n",
       "2016     864\n",
       "2017     719\n",
       "2010     713\n",
       "2009     667\n",
       "1995     666\n",
       "2008     568\n",
       "2007     260\n",
       "1997     206\n",
       "1996     180\n",
       "2006     164\n",
       "1994     154\n",
       "1991     150\n",
       "1990      87\n",
       "1992      85\n",
       "2005      77\n",
       "2004      67\n",
       "1987      60\n",
       "2001      53\n",
       "2000      49\n",
       "2002      46\n",
       "1989      45\n",
       "1988      44\n",
       "1999      39\n",
       "1998      37\n",
       "2003      29\n",
       "1986      24\n",
       "1983       9\n",
       "1979       7\n",
       "1981       4\n",
       "1982       4\n",
       "1976       3\n",
       "1984       3\n",
       "1974       2\n",
       "1975       2\n",
       "1978       2\n",
       "1985       2\n",
       "1970       1\n",
       "1980       1\n",
       "Name: iyear, dtype: int64"
      ]
     },
     "execution_count": 191,
     "metadata": {},
     "output_type": "execute_result"
    }
   ],
   "source": [
    "yearwise_cases_pakistan=df.groupby('country_txt').get_group('Pakistan')['iyear'].value_counts()\n",
    "yearwise_cases_pakistan"
   ]
  },
  {
   "cell_type": "code",
   "execution_count": 196,
   "id": "recorded-approval",
   "metadata": {},
   "outputs": [
    {
     "data": {
      "text/plain": [
       "<AxesSubplot:>"
      ]
     },
     "execution_count": 196,
     "metadata": {},
     "output_type": "execute_result"
    },
    {
     "data": {
      "image/png": "[encoded data removed]",
      "text/plain": [
       "<Figure size 432x288 with 1 Axes>"
      ]
     },
     "metadata": {
      "needs_background": "light"
     },
     "output_type": "display_data"
    }
   ],
   "source": [
    "yearwise_cases_pakistan[:20].plot(kind='barh')"
   ]
  },
  {
   "cell_type": "code",
   "execution_count": 192,
   "id": "suffering-radar",
   "metadata": {},
   "outputs": [
    {
     "data": {
      "text/plain": [
       "<AxesSubplot:>"
      ]
     },
     "execution_count": 192,
     "metadata": {},
     "output_type": "execute_result"
    },
    {
     "data": {
      "image/png": "[encoded data removed]",
      "text/plain": [
       "<Figure size 432x288 with 1 Axes>"
      ]
     },
     "metadata": {
      "needs_background": "light"
     },
     "output_type": "display_data"
    }
   ],
   "source": [
    "yearwise_cases_pakistan.plot()"
   ]
  },
  {
   "cell_type": "code",
   "execution_count": 199,
   "id": "brown-bones",
   "metadata": {},
   "outputs": [
    {
     "name": "stderr",
     "output_type": "stream",
     "text": [
      "<ipython-input-199-3cb9b339b022>:1: UserWarning: Boolean Series key will be reindexed to match DataFrame index.\n",
      "  df.groupby('country_txt').get_group('Pakistan')[df['iyear']==2017]['provstate'].value_counts()\n"
     ]
    },
    {
     "data": {
      "text/plain": [
       "Balochistan                            325\n",
       "Federally Administered Tribal Areas    168\n",
       "Khyber Pakhtunkhwa                     118\n",
       "Sindh                                   56\n",
       "Punjab                                  38\n",
       "Islamabad Capital Territory              7\n",
       "Gilgit-Baltistan                         3\n",
       "Azad Kashmir                             3\n",
       "Unknown                                  1\n",
       "Name: provstate, dtype: int64"
      ]
     },
     "execution_count": 199,
     "metadata": {},
     "output_type": "execute_result"
    }
   ],
   "source": [
    "df.groupby('country_txt').get_group('Pakistan')[df['iyear']==2017]['provstate'].value_counts()"
   ]
  },
  {
   "cell_type": "code",
   "execution_count": 198,
   "id": "narrative-alexandria",
   "metadata": {},
   "outputs": [
    {
     "name": "stderr",
     "output_type": "stream",
     "text": [
      "<ipython-input-198-8d3ce5b72f14>:1: UserWarning: Boolean Series key will be reindexed to match DataFrame index.\n",
      "  df.groupby('country_txt').get_group('Pakistan')[df['iyear']==2017]['city'].value_counts()\n"
     ]
    },
    {
     "data": {
      "text/plain": [
       "Quetta                 51\n",
       "Karachi                42\n",
       "Peshawar               21\n",
       "Dera Bugti             14\n",
       "Lahore                 14\n",
       "                       ..\n",
       "Swat district           1\n",
       "Qayyum Abad Qandhro     1\n",
       "Chugal Pura             1\n",
       "Barwal                  1\n",
       "Chakdara                1\n",
       "Name: city, Length: 360, dtype: int64"
      ]
     },
     "execution_count": 198,
     "metadata": {},
     "output_type": "execute_result"
    }
   ],
   "source": [
    "df.groupby('country_txt').get_group('Pakistan')[df['iyear']==2017]['city'].value_counts()"
   ]
  },
  {
   "cell_type": "code",
   "execution_count": 200,
   "id": "chinese-bikini",
   "metadata": {},
   "outputs": [
    {
     "name": "stderr",
     "output_type": "stream",
     "text": [
      "<ipython-input-200-ee1c0ba584ce>:1: UserWarning: Boolean Series key will be reindexed to match DataFrame index.\n",
      "  df.groupby('country_txt').get_group('Pakistan')[df['iyear']==2017]['imonth'].value_counts()\n"
     ]
    },
    {
     "data": {
      "text/plain": [
       "5     82\n",
       "3     72\n",
       "2     67\n",
       "8     65\n",
       "10    64\n",
       "1     63\n",
       "7     56\n",
       "11    54\n",
       "12    53\n",
       "4     52\n",
       "6     50\n",
       "9     41\n",
       "Name: imonth, dtype: int64"
      ]
     },
     "execution_count": 200,
     "metadata": {},
     "output_type": "execute_result"
    }
   ],
   "source": [
    "df.groupby('country_txt').get_group('Pakistan')[df['iyear']==2017]['imonth'].value_counts()"
   ]
  },
  {
   "cell_type": "code",
   "execution_count": 201,
   "id": "cordless-representative",
   "metadata": {},
   "outputs": [
    {
     "name": "stderr",
     "output_type": "stream",
     "text": [
      "<ipython-input-201-645764baf8b8>:1: UserWarning: Boolean Series key will be reindexed to match DataFrame index.\n",
      "  df.groupby('country_txt').get_group('Pakistan')[df['iyear']==2017][df['imonth']==6]['iday'].value_counts()\n",
      "<ipython-input-201-645764baf8b8>:1: UserWarning: Boolean Series key will be reindexed to match DataFrame index.\n",
      "  df.groupby('country_txt').get_group('Pakistan')[df['iyear']==2017][df['imonth']==6]['iday'].value_counts()\n"
     ]
    },
    {
     "data": {
      "text/plain": [
       "23    5\n",
       "16    5\n",
       "17    4\n",
       "11    4\n",
       "25    3\n",
       "20    3\n",
       "2     2\n",
       "13    2\n",
       "27    2\n",
       "24    2\n",
       "30    2\n",
       "10    2\n",
       "7     2\n",
       "4     2\n",
       "12    1\n",
       "3     1\n",
       "9     1\n",
       "18    1\n",
       "19    1\n",
       "8     1\n",
       "6     1\n",
       "5     1\n",
       "26    1\n",
       "15    1\n",
       "Name: iday, dtype: int64"
      ]
     },
     "execution_count": 201,
     "metadata": {},
     "output_type": "execute_result"
    }
   ],
   "source": [
    "df.groupby('country_txt').get_group('Pakistan')[df['iyear']==2017][df['imonth']==6]['iday'].value_counts()"
   ]
  },
  {
   "cell_type": "code",
   "execution_count": 203,
   "id": "comprehensive-delicious",
   "metadata": {},
   "outputs": [
    {
     "name": "stderr",
     "output_type": "stream",
     "text": [
      "<ipython-input-203-513b811fa136>:1: UserWarning: Boolean Series key will be reindexed to match DataFrame index.\n",
      "  df.groupby('country_txt').get_group('Pakistan')[df['iyear']==2017]['imonth'].mean()\n"
     ]
    },
    {
     "data": {
      "text/plain": [
       "6.233657858136301"
      ]
     },
     "execution_count": 203,
     "metadata": {},
     "output_type": "execute_result"
    }
   ],
   "source": [
    "df.groupby('country_txt').get_group('Pakistan')[df['iyear']==2017]['imonth'].mean()"
   ]
  },
  {
   "cell_type": "code",
   "execution_count": 204,
   "id": "invalid-western",
   "metadata": {},
   "outputs": [
    {
     "name": "stderr",
     "output_type": "stream",
     "text": [
      "<ipython-input-204-745ec4754306>:1: UserWarning: Boolean Series key will be reindexed to match DataFrame index.\n",
      "  df.groupby('country_txt').get_group('Pakistan')[df['iyear']==2017]['attacktype1_txt'].value_counts()\n"
     ]
    },
    {
     "data": {
      "text/plain": [
       "Bombing/Explosion                      389\n",
       "Armed Assault                          203\n",
       "Assassination                           67\n",
       "Hostage Taking (Kidnapping)             40\n",
       "Unknown                                 12\n",
       "Facility/Infrastructure Attack           4\n",
       "Unarmed Assault                          2\n",
       "Hostage Taking (Barricade Incident)      2\n",
       "Name: attacktype1_txt, dtype: int64"
      ]
     },
     "execution_count": 204,
     "metadata": {},
     "output_type": "execute_result"
    }
   ],
   "source": [
    "df.groupby('country_txt').get_group('Pakistan')[df['iyear']==2017]['attacktype1_txt'].value_counts()"
   ]
  },
  {
   "cell_type": "code",
   "execution_count": 205,
   "id": "continued-shadow",
   "metadata": {},
   "outputs": [
    {
     "name": "stderr",
     "output_type": "stream",
     "text": [
      "<ipython-input-205-d050d05136f2>:1: UserWarning: Boolean Series key will be reindexed to match DataFrame index.\n",
      "  df.groupby('country_txt').get_group('Pakistan')[df['iyear']==2017]['targtype1_txt'].value_counts()\n"
     ]
    },
    {
     "data": {
      "text/plain": [
       "Private Citizens & Property       160\n",
       "Military                          157\n",
       "Police                            102\n",
       "Unknown                            89\n",
       "Government (General)               50\n",
       "Business                           30\n",
       "Utilities                          23\n",
       "Educational Institution            23\n",
       "Transportation                     22\n",
       "Journalists & Media                18\n",
       "Religious Figures/Institutions     17\n",
       "Terrorists/Non-State Militia       11\n",
       "Telecommunication                   7\n",
       "Violent Political Party             5\n",
       "Government (Diplomatic)             2\n",
       "Food or Water Supply                1\n",
       "Other                               1\n",
       "NGO                                 1\n",
       "Name: targtype1_txt, dtype: int64"
      ]
     },
     "execution_count": 205,
     "metadata": {},
     "output_type": "execute_result"
    }
   ],
   "source": [
    "df.groupby('country_txt').get_group('Pakistan')[df['iyear']==2017]['targtype1_txt'].value_counts()"
   ]
  },
  {
   "cell_type": "code",
   "execution_count": 206,
   "id": "advised-oriental",
   "metadata": {},
   "outputs": [
    {
     "name": "stderr",
     "output_type": "stream",
     "text": [
      "<ipython-input-206-2f02be872b1a>:1: UserWarning: Boolean Series key will be reindexed to match DataFrame index.\n",
      "  df.groupby('country_txt').get_group('Pakistan')[df['iyear']==2017]['nkill'].value_counts()\n"
     ]
    },
    {
     "data": {
      "text/plain": [
       "0.0     399\n",
       "1.0     142\n",
       "2.0      62\n",
       "3.0      34\n",
       "4.0      25\n",
       "6.0       8\n",
       "8.0       6\n",
       "5.0       6\n",
       "7.0       3\n",
       "16.0      3\n",
       "10.0      2\n",
       "14.0      2\n",
       "12.0      2\n",
       "20.0      1\n",
       "27.0      1\n",
       "26.0      1\n",
       "24.0      1\n",
       "25.0      1\n",
       "29.0      1\n",
       "9.0       1\n",
       "91.0      1\n",
       "39.0      1\n",
       "40.0      1\n",
       "11.0      1\n",
       "Name: nkill, dtype: int64"
      ]
     },
     "execution_count": 206,
     "metadata": {},
     "output_type": "execute_result"
    }
   ],
   "source": [
    "df.groupby('country_txt').get_group('Pakistan')[df['iyear']==2017]['nkill'].value_counts()"
   ]
  },
  {
   "cell_type": "code",
   "execution_count": 207,
   "id": "favorite-shock",
   "metadata": {},
   "outputs": [
    {
     "name": "stderr",
     "output_type": "stream",
     "text": [
      "<ipython-input-207-b20c36862d4e>:1: UserWarning: Boolean Series key will be reindexed to match DataFrame index.\n",
      "  len(df.groupby('country_txt').get_group('Pakistan')[df['iyear']==2017][df['nkill']>=20])\n",
      "<ipython-input-207-b20c36862d4e>:1: UserWarning: Boolean Series key will be reindexed to match DataFrame index.\n",
      "  len(df.groupby('country_txt').get_group('Pakistan')[df['iyear']==2017][df['nkill']>=20])\n"
     ]
    },
    {
     "data": {
      "text/plain": [
       "9"
      ]
     },
     "execution_count": 207,
     "metadata": {},
     "output_type": "execute_result"
    }
   ],
   "source": [
    "len(df.groupby('country_txt').get_group('Pakistan')[df['iyear']==2017][df['nkill']>=20])"
   ]
  },
  {
   "cell_type": "code",
   "execution_count": 208,
   "id": "determined-value",
   "metadata": {},
   "outputs": [
    {
     "name": "stderr",
     "output_type": "stream",
     "text": [
      "<ipython-input-208-f063bc619cb1>:1: UserWarning: Boolean Series key will be reindexed to match DataFrame index.\n",
      "  df.groupby('country_txt').get_group('Pakistan')[df['iyear']==2017][df['nkill']>=20]['city'].value_counts()\n",
      "<ipython-input-208-f063bc619cb1>:1: UserWarning: Boolean Series key will be reindexed to match DataFrame index.\n",
      "  df.groupby('country_txt').get_group('Pakistan')[df['iyear']==2017][df['nkill']>=20]['city'].value_counts()\n"
     ]
    },
    {
     "data": {
      "text/plain": [
       "Parachinar         4\n",
       "Mastung            1\n",
       "Buleda             1\n",
       "Sehwan             1\n",
       "Fatehpur Sharif    1\n",
       "Lahore             1\n",
       "Name: city, dtype: int64"
      ]
     },
     "execution_count": 208,
     "metadata": {},
     "output_type": "execute_result"
    }
   ],
   "source": [
    "df.groupby('country_txt').get_group('Pakistan')[df['iyear']==2017][df['nkill']>=20]['city'].value_counts()"
   ]
  },
  {
   "cell_type": "code",
   "execution_count": 209,
   "id": "olive-warrant",
   "metadata": {},
   "outputs": [
    {
     "name": "stderr",
     "output_type": "stream",
     "text": [
      "<ipython-input-209-cdecd1cffbc0>:1: UserWarning: Boolean Series key will be reindexed to match DataFrame index.\n",
      "  df.groupby('country_txt').get_group('Pakistan')[df['iyear']==2017]['nkill'].sum()\n"
     ]
    },
    {
     "data": {
      "text/plain": [
       "1076.0"
      ]
     },
     "execution_count": 209,
     "metadata": {},
     "output_type": "execute_result"
    }
   ],
   "source": [
    "df.groupby('country_txt').get_group('Pakistan')[df['iyear']==2017]['nkill'].sum()"
   ]
  },
  {
   "cell_type": "code",
   "execution_count": 211,
   "id": "twelve-prayer",
   "metadata": {},
   "outputs": [
    {
     "data": {
      "text/plain": [
       "23822.0"
      ]
     },
     "execution_count": 211,
     "metadata": {},
     "output_type": "execute_result"
    }
   ],
   "source": [
    "df.groupby('country_txt').get_group('Pakistan')['nkill'].sum()"
   ]
  },
  {
   "cell_type": "code",
   "execution_count": 82,
   "id": "bearing-moscow",
   "metadata": {},
   "outputs": [
    {
     "data": {
      "text/plain": [
       "Index(['eventid', 'iyear', 'imonth', 'iday', 'extended', 'country',\n",
       "       'country_txt', 'region', 'region_txt', 'provstate', 'city', 'latitude',\n",
       "       'longitude', 'specificity', 'vicinity', 'summary', 'crit1', 'crit2',\n",
       "       'crit3', 'doubtterr', 'multiple', 'success', 'suicide', 'attacktype1',\n",
       "       'attacktype1_txt', 'targtype1', 'targtype1_txt', 'targsubtype1',\n",
       "       'targsubtype1_txt', 'corp1', 'target1', 'natlty1', 'natlty1_txt',\n",
       "       'gname', 'guncertain1', 'individual', 'nperps', 'nperpcap', 'claimed',\n",
       "       'weaptype1', 'weaptype1_txt', 'weapsubtype1', 'weapsubtype1_txt',\n",
       "       'weapdetail', 'nkill', 'nkillus', 'nkillter', 'nwound', 'nwoundus',\n",
       "       'nwoundte', 'property', 'ishostkid', 'scite1', 'dbsource', 'INT_LOG',\n",
       "       'INT_IDEO', 'INT_MISC', 'INT_ANY'],\n",
       "      dtype='object')"
      ]
     },
     "execution_count": 82,
     "metadata": {},
     "output_type": "execute_result"
    }
   ],
   "source": [
    "df.columns"
   ]
  },
  {
   "cell_type": "code",
   "execution_count": 15,
   "id": "supported-capture",
   "metadata": {},
   "outputs": [
    {
     "name": "stderr",
     "output_type": "stream",
     "text": [
      "c:\\users\\sk\\appdata\\local\\programs\\python\\python39\\lib\\site-packages\\seaborn\\distributions.py:2557: FutureWarning: `distplot` is a deprecated function and will be removed in a future version. Please adapt your code to use either `displot` (a figure-level function with similar flexibility) or `histplot` (an axes-level function for histograms).\n",
      "  warnings.warn(msg, FutureWarning)\n"
     ]
    },
    {
     "data": {
      "image/png": "[encoded data removed]",
      "text/plain": [
       "<Figure size 432x288 with 1 Axes>"
      ]
     },
     "metadata": {
      "needs_background": "light"
     },
     "output_type": "display_data"
    },
    {
     "name": "stderr",
     "output_type": "stream",
     "text": [
      "c:\\users\\sk\\appdata\\local\\programs\\python\\python39\\lib\\site-packages\\seaborn\\distributions.py:2557: FutureWarning: `distplot` is a deprecated function and will be removed in a future version. Please adapt your code to use either `displot` (a figure-level function with similar flexibility) or `histplot` (an axes-level function for histograms).\n",
      "  warnings.warn(msg, FutureWarning)\n"
     ]
    },
    {
     "data": {
      "image/png": "[encoded data removed]",
      "text/plain": [
       "<Figure size 432x288 with 1 Axes>"
      ]
     },
     "metadata": {
      "needs_background": "light"
     },
     "output_type": "display_data"
    },
    {
     "name": "stderr",
     "output_type": "stream",
     "text": [
      "c:\\users\\sk\\appdata\\local\\programs\\python\\python39\\lib\\site-packages\\seaborn\\distributions.py:2557: FutureWarning: `distplot` is a deprecated function and will be removed in a future version. Please adapt your code to use either `displot` (a figure-level function with similar flexibility) or `histplot` (an axes-level function for histograms).\n",
      "  warnings.warn(msg, FutureWarning)\n"
     ]
    },
    {
     "data": {
      "image/png": "[encoded data removed]",
      "text/plain": [
       "<Figure size 432x288 with 1 Axes>"
      ]
     },
     "metadata": {
      "needs_background": "light"
     },
     "output_type": "display_data"
    }
   ],
   "source": [
    "for feature in quant_features:\n",
    "    sns.distplot(df[feature])\n",
    "    plt.show()"
   ]
  },
  {
   "cell_type": "code",
   "execution_count": 62,
   "id": "compact-event",
   "metadata": {},
   "outputs": [
    {
     "data": {
      "text/plain": [
       "8399.976"
      ]
     },
     "execution_count": 62,
     "metadata": {},
     "output_type": "execute_result"
    }
   ],
   "source": [
    "df['Profit'].max()"
   ]
  },
  {
   "cell_type": "code",
   "execution_count": 63,
   "id": "progressive-device",
   "metadata": {},
   "outputs": [
    {
     "data": {
      "text/plain": [
       "-6599.978"
      ]
     },
     "execution_count": 63,
     "metadata": {},
     "output_type": "execute_result"
    }
   ],
   "source": [
    "df['Profit'].min()"
   ]
  },
  {
   "cell_type": "code",
   "execution_count": 64,
   "id": "united-harassment",
   "metadata": {},
   "outputs": [
    {
     "data": {
      "text/plain": [
       "28.65689630778467"
      ]
     },
     "execution_count": 64,
     "metadata": {},
     "output_type": "execute_result"
    }
   ],
   "source": [
    "df['Profit'].mean()"
   ]
  },
  {
   "cell_type": "code",
   "execution_count": 65,
   "id": "selected-extension",
   "metadata": {},
   "outputs": [
    {
     "data": {
      "text/plain": [
       "8.6665"
      ]
     },
     "execution_count": 65,
     "metadata": {},
     "output_type": "execute_result"
    }
   ],
   "source": [
    "df['Profit'].median()"
   ]
  },
  {
   "cell_type": "code",
   "execution_count": 78,
   "id": "accompanied-disclosure",
   "metadata": {},
   "outputs": [
    {
     "data": {
      "text/plain": [
       "True     8058\n",
       "False    1936\n",
       "Name: Profit, dtype: int64"
      ]
     },
     "execution_count": 78,
     "metadata": {},
     "output_type": "execute_result"
    }
   ],
   "source": [
    "(df['Profit']>0).value_counts()"
   ]
  },
  {
   "cell_type": "code",
   "execution_count": 79,
   "id": "continuing-showcase",
   "metadata": {},
   "outputs": [
    {
     "data": {
      "text/plain": [
       "array(['Henderson', 'Los Angeles', 'Fort Lauderdale', 'Concord',\n",
       "       'Seattle', 'Fort Worth', 'Madison', 'West Jordan', 'San Francisco',\n",
       "       'Fremont', 'Philadelphia', 'Orem', 'Houston', 'Richardson',\n",
       "       'Naperville', 'Melbourne', 'Eagan', 'Westland', 'Dover',\n",
       "       'New Albany', 'New York City', 'Troy', 'Chicago', 'Gilbert',\n",
       "       'Springfield', 'Jackson', 'Memphis', 'Decatur', 'Durham',\n",
       "       'Columbia', 'Rochester', 'Minneapolis', 'Portland', 'Saint Paul',\n",
       "       'Aurora', 'Charlotte', 'Orland Park', 'Urbandale', 'Columbus',\n",
       "       'Bristol', 'Wilmington', 'Bloomington', 'Phoenix', 'Roseville',\n",
       "       'Independence', 'Pasadena', 'Newark', 'Franklin', 'Scottsdale',\n",
       "       'San Jose', 'Edmond', 'Carlsbad', 'San Antonio', 'Monroe',\n",
       "       'Fairfield', 'Grand Prairie', 'Redlands', 'Hamilton', 'Westfield',\n",
       "       'Akron', 'Denver', 'Dallas', 'Whittier', 'Saginaw', 'Medina',\n",
       "       'Dublin', 'Detroit', 'Tampa', 'Santa Clara', 'Lakeville',\n",
       "       'San Diego', 'Brentwood', 'Chapel Hill', 'Morristown',\n",
       "       'Cincinnati', 'Inglewood', 'Tamarac', 'Colorado Springs',\n",
       "       'Belleville', 'Taylor', 'Lakewood', 'Arlington', 'Arvada',\n",
       "       'Hackensack', 'Saint Petersburg', 'Long Beach', 'Hesperia',\n",
       "       'Murfreesboro', 'Layton', 'Austin', 'Lowell', 'Manchester',\n",
       "       'Harlingen', 'Tucson', 'Quincy', 'Pembroke Pines', 'Des Moines',\n",
       "       'Peoria', 'Las Vegas', 'Warwick', 'Miami', 'Huntington Beach',\n",
       "       'Richmond', 'Louisville', 'Lawrence', 'Canton', 'New Rochelle',\n",
       "       'Gastonia', 'Jacksonville', 'Auburn', 'Norman', 'Park Ridge',\n",
       "       'Amarillo', 'Lindenhurst', 'Huntsville', 'Fayetteville',\n",
       "       'Costa Mesa', 'Parker', 'Atlanta', 'Gladstone', 'Great Falls',\n",
       "       'Lakeland', 'Montgomery', 'Mesa', 'Green Bay', 'Anaheim',\n",
       "       'Marysville', 'Salem', 'Laredo', 'Grove City', 'Dearborn',\n",
       "       'Warner Robins', 'Vallejo', 'Mission Viejo', 'Rochester Hills',\n",
       "       'Plainfield', 'Sierra Vista', 'Vancouver', 'Cleveland', 'Tyler',\n",
       "       'Burlington', 'Waynesboro', 'Chester', 'Cary', 'Palm Coast',\n",
       "       'Mount Vernon', 'Hialeah', 'Oceanside', 'Evanston', 'Trenton',\n",
       "       'Cottage Grove', 'Bossier City', 'Lancaster', 'Asheville',\n",
       "       'Lake Elsinore', 'Omaha', 'Edmonds', 'Santa Ana', 'Milwaukee',\n",
       "       'Florence', 'Lorain', 'Linden', 'Salinas', 'New Brunswick',\n",
       "       'Garland', 'Norwich', 'Alexandria', 'Toledo', 'Farmington',\n",
       "       'Riverside', 'Torrance', 'Round Rock', 'Boca Raton',\n",
       "       'Virginia Beach', 'Murrieta', 'Olympia', 'Washington',\n",
       "       'Jefferson City', 'Saint Peters', 'Rockford', 'Brownsville',\n",
       "       'Yonkers', 'Oakland', 'Clinton', 'Encinitas', 'Roswell',\n",
       "       'Jonesboro', 'Antioch', 'Homestead', 'La Porte', 'Lansing',\n",
       "       'Cuyahoga Falls', 'Reno', 'Harrisonburg', 'Escondido', 'Royal Oak',\n",
       "       'Rockville', 'Coral Springs', 'Buffalo', 'Boynton Beach',\n",
       "       'Gulfport', 'Fresno', 'Greenville', 'Macon', 'Cedar Rapids',\n",
       "       'Providence', 'Pueblo', 'Deltona', 'Murray', 'Middletown',\n",
       "       'Freeport', 'Pico Rivera', 'Provo', 'Pleasant Grove', 'Smyrna',\n",
       "       'Parma', 'Mobile', 'New Bedford', 'Irving', 'Vineland', 'Glendale',\n",
       "       'Niagara Falls', 'Thomasville', 'Westminster', 'Coppell', 'Pomona',\n",
       "       'North Las Vegas', 'Allentown', 'Tempe', 'Laguna Niguel',\n",
       "       'Bridgeton', 'Everett', 'Watertown', 'Appleton', 'Bellevue',\n",
       "       'Allen', 'El Paso', 'Grapevine', 'Carrollton', 'Kent', 'Lafayette',\n",
       "       'Tigard', 'Skokie', 'Plano', 'Suffolk', 'Indianapolis', 'Bayonne',\n",
       "       'Greensboro', 'Baltimore', 'Kenosha', 'Olathe', 'Tulsa', 'Redmond',\n",
       "       'Raleigh', 'Muskogee', 'Meriden', 'Bowling Green', 'South Bend',\n",
       "       'Spokane', 'Keller', 'Port Orange', 'Medford', 'Charlottesville',\n",
       "       'Missoula', 'Apopka', 'Reading', 'Broomfield', 'Paterson',\n",
       "       'Oklahoma City', 'Chesapeake', 'Lubbock', 'Johnson City',\n",
       "       'San Bernardino', 'Leominster', 'Bozeman', 'Perth Amboy',\n",
       "       'Ontario', 'Rancho Cucamonga', 'Moorhead', 'Mesquite', 'Stockton',\n",
       "       'Ormond Beach', 'Sunnyvale', 'York', 'College Station',\n",
       "       'Saint Louis', 'Manteca', 'San Angelo', 'Salt Lake City',\n",
       "       'Knoxville', 'Little Rock', 'Lincoln Park', 'Marion', 'Littleton',\n",
       "       'Bangor', 'Southaven', 'New Castle', 'Midland', 'Sioux Falls',\n",
       "       'Fort Collins', 'Clarksville', 'Sacramento', 'Thousand Oaks',\n",
       "       'Malden', 'Holyoke', 'Albuquerque', 'Sparks', 'Coachella',\n",
       "       'Elmhurst', 'Passaic', 'North Charleston', 'Newport News',\n",
       "       'Jamestown', 'Mishawaka', 'La Quinta', 'Tallahassee', 'Nashville',\n",
       "       'Bellingham', 'Woodstock', 'Haltom City', 'Wheeling',\n",
       "       'Summerville', 'Hot Springs', 'Englewood', 'Las Cruces', 'Hoover',\n",
       "       'Frisco', 'Vacaville', 'Waukesha', 'Bakersfield', 'Pompano Beach',\n",
       "       'Corpus Christi', 'Redondo Beach', 'Orlando', 'Orange',\n",
       "       'Lake Charles', 'Highland Park', 'Hempstead', 'Noblesville',\n",
       "       'Apple Valley', 'Mount Pleasant', 'Sterling Heights', 'Eau Claire',\n",
       "       'Pharr', 'Billings', 'Gresham', 'Chattanooga', 'Meridian',\n",
       "       'Bolingbrook', 'Maple Grove', 'Woodland', 'Missouri City',\n",
       "       'Pearland', 'San Mateo', 'Grand Rapids', 'Visalia',\n",
       "       'Overland Park', 'Temecula', 'Yucaipa', 'Revere', 'Conroe',\n",
       "       'Tinley Park', 'Dubuque', 'Dearborn Heights', 'Santa Fe',\n",
       "       'Hickory', 'Carol Stream', 'Saint Cloud', 'North Miami',\n",
       "       'Plantation', 'Port Saint Lucie', 'Rock Hill', 'Odessa',\n",
       "       'West Allis', 'Chula Vista', 'Manhattan', 'Altoona', 'Thornton',\n",
       "       'Champaign', 'Texarkana', 'Edinburg', 'Baytown', 'Greenwood',\n",
       "       'Woonsocket', 'Superior', 'Bedford', 'Covington', 'Broken Arrow',\n",
       "       'Miramar', 'Hollywood', 'Deer Park', 'Wichita', 'Mcallen',\n",
       "       'Iowa City', 'Boise', 'Cranston', 'Port Arthur', 'Citrus Heights',\n",
       "       'The Colony', 'Daytona Beach', 'Bullhead City', 'Portage', 'Fargo',\n",
       "       'Elkhart', 'San Gabriel', 'Margate', 'Sandy Springs', 'Mentor',\n",
       "       'Lawton', 'Hampton', 'Rome', 'La Crosse', 'Lewiston',\n",
       "       'Hattiesburg', 'Danville', 'Logan', 'Waterbury', 'Athens',\n",
       "       'Avondale', 'Marietta', 'Yuma', 'Wausau', 'Pasco', 'Oak Park',\n",
       "       'Pensacola', 'League City', 'Gaithersburg', 'Lehi', 'Tuscaloosa',\n",
       "       'Moreno Valley', 'Georgetown', 'Loveland', 'Chandler', 'Helena',\n",
       "       'Kirkwood', 'Waco', 'Frankfort', 'Bethlehem', 'Grand Island',\n",
       "       'Woodbury', 'Rogers', 'Clovis', 'Jupiter', 'Santa Barbara',\n",
       "       'Cedar Hill', 'Norfolk', 'Draper', 'Ann Arbor', 'La Mesa',\n",
       "       'Pocatello', 'Holland', 'Milford', 'Buffalo Grove', 'Lake Forest',\n",
       "       'Redding', 'Chico', 'Utica', 'Conway', 'Cheyenne', 'Owensboro',\n",
       "       'Caldwell', 'Kenner', 'Nashua', 'Bartlett', 'Redwood City',\n",
       "       'Lebanon', 'Santa Maria', 'Des Plaines', 'Longview',\n",
       "       'Hendersonville', 'Waterloo', 'Cambridge', 'Palatine', 'Beverly',\n",
       "       'Eugene', 'Oxnard', 'Renton', 'Glenview', 'Delray Beach',\n",
       "       'Commerce City', 'Texas City', 'Wilson', 'Rio Rancho', 'Goldsboro',\n",
       "       'Montebello', 'El Cajon', 'Beaumont', 'West Palm Beach', 'Abilene',\n",
       "       'Normal', 'Saint Charles', 'Camarillo', 'Hillsboro', 'Burbank',\n",
       "       'Modesto', 'Garden City', 'Atlantic City', 'Longmont', 'Davis',\n",
       "       'Morgan Hill', 'Clifton', 'Sheboygan', 'East Point', 'Rapid City',\n",
       "       'Andover', 'Kissimmee', 'Shelton', 'Danbury', 'Sanford',\n",
       "       'San Marcos', 'Greeley', 'Mansfield', 'Elyria', 'Twin Falls',\n",
       "       'Coral Gables', 'Romeoville', 'Marlborough', 'Laurel', 'Bryan',\n",
       "       'Pine Bluff', 'Aberdeen', 'Hagerstown', 'East Orange',\n",
       "       'Arlington Heights', 'Oswego', 'Coon Rapids', 'San Clemente',\n",
       "       'San Luis Obispo', 'Springdale', 'Lodi', 'Mason'], dtype=object)"
      ]
     },
     "execution_count": 79,
     "metadata": {},
     "output_type": "execute_result"
    }
   ],
   "source": [
    "cities=df['City'].unique()\n",
    "cities"
   ]
  },
  {
   "cell_type": "code",
   "execution_count": 28,
   "id": "considerable-drawing",
   "metadata": {},
   "outputs": [
    {
     "data": {
      "text/plain": [
       "531"
      ]
     },
     "execution_count": 28,
     "metadata": {},
     "output_type": "execute_result"
    }
   ],
   "source": [
    "len(cities)"
   ]
  },
  {
   "cell_type": "code",
   "execution_count": 23,
   "id": "dominican-policy",
   "metadata": {},
   "outputs": [
    {
     "data": {
      "text/plain": [
       "New York City     915\n",
       "Los Angeles       747\n",
       "Philadelphia      537\n",
       "San Francisco     510\n",
       "Seattle           428\n",
       "                 ... \n",
       "Montebello          1\n",
       "Jefferson City      1\n",
       "Normal              1\n",
       "Jupiter             1\n",
       "Abilene             1\n",
       "Name: City, Length: 531, dtype: int64"
      ]
     },
     "execution_count": 23,
     "metadata": {},
     "output_type": "execute_result"
    }
   ],
   "source": [
    "cities_by_counts=df.City.value_counts()\n",
    "cities_by_counts"
   ]
  },
  {
   "cell_type": "code",
   "execution_count": 24,
   "id": "dangerous-magnitude",
   "metadata": {},
   "outputs": [
    {
     "data": {
      "text/plain": [
       "New York City    915\n",
       "Los Angeles      747\n",
       "Philadelphia     537\n",
       "San Francisco    510\n",
       "Seattle          428\n",
       "Houston          377\n",
       "Chicago          314\n",
       "Columbus         222\n",
       "San Diego        170\n",
       "Springfield      163\n",
       "Dallas           157\n",
       "Jacksonville     125\n",
       "Detroit          115\n",
       "Newark            95\n",
       "Richmond          90\n",
       "Jackson           82\n",
       "Columbia          81\n",
       "Aurora            68\n",
       "Phoenix           63\n",
       "Long Beach        61\n",
       "Name: City, dtype: int64"
      ]
     },
     "execution_count": 24,
     "metadata": {},
     "output_type": "execute_result"
    }
   ],
   "source": [
    "cities_by_counts[:20]"
   ]
  },
  {
   "cell_type": "code",
   "execution_count": 26,
   "id": "miniature-internship",
   "metadata": {},
   "outputs": [
    {
     "data": {
      "text/plain": [
       "<AxesSubplot:>"
      ]
     },
     "execution_count": 26,
     "metadata": {},
     "output_type": "execute_result"
    },
    {
     "data": {
      "image/png": "[encoded data removed]",
      "text/plain": [
       "<Figure size 432x288 with 1 Axes>"
      ]
     },
     "metadata": {
      "needs_background": "light"
     },
     "output_type": "display_data"
    }
   ],
   "source": [
    "cities_by_counts[:20].plot(kind='barh')"
   ]
  },
  {
   "cell_type": "code",
   "execution_count": 27,
   "id": "numeric-princess",
   "metadata": {},
   "outputs": [
    {
     "data": {
      "text/plain": [
       "<AxesSubplot:xlabel='City', ylabel='Count'>"
      ]
     },
     "execution_count": 27,
     "metadata": {},
     "output_type": "execute_result"
    },
    {
     "data": {
      "image/png": "[encoded data removed]",
      "text/plain": [
       "<Figure size 432x288 with 1 Axes>"
      ]
     },
     "metadata": {},
     "output_type": "display_data"
    }
   ],
   "source": [
    "import seaborn as sns\n",
    "sns.set_style(\"darkgrid\")\n",
    "sns.histplot(cities_by_counts, log_scale=True)"
   ]
  },
  {
   "cell_type": "code",
   "execution_count": 36,
   "id": "drawn-company",
   "metadata": {},
   "outputs": [
    {
     "data": {
      "text/plain": [
       "array(['Kentucky', 'California', 'Florida', 'North Carolina',\n",
       "       'Washington', 'Texas', 'Wisconsin', 'Utah', 'Nebraska',\n",
       "       'Pennsylvania', 'Illinois', 'Minnesota', 'Michigan', 'Delaware',\n",
       "       'Indiana', 'New York', 'Arizona', 'Virginia', 'Tennessee',\n",
       "       'Alabama', 'South Carolina', 'Oregon', 'Colorado', 'Iowa', 'Ohio',\n",
       "       'Missouri', 'Oklahoma', 'New Mexico', 'Louisiana', 'Connecticut',\n",
       "       'New Jersey', 'Massachusetts', 'Georgia', 'Nevada', 'Rhode Island',\n",
       "       'Mississippi', 'Arkansas', 'Montana', 'New Hampshire', 'Maryland',\n",
       "       'District of Columbia', 'Kansas', 'Vermont', 'Maine',\n",
       "       'South Dakota', 'Idaho', 'North Dakota', 'Wyoming',\n",
       "       'West Virginia'], dtype=object)"
      ]
     },
     "execution_count": 36,
     "metadata": {},
     "output_type": "execute_result"
    }
   ],
   "source": [
    "states=df['State'].unique()\n",
    "states"
   ]
  },
  {
   "cell_type": "code",
   "execution_count": 37,
   "id": "religious-fisher",
   "metadata": {},
   "outputs": [
    {
     "data": {
      "text/plain": [
       "49"
      ]
     },
     "execution_count": 37,
     "metadata": {},
     "output_type": "execute_result"
    }
   ],
   "source": [
    "len(states)"
   ]
  },
  {
   "cell_type": "code",
   "execution_count": 39,
   "id": "communist-period",
   "metadata": {},
   "outputs": [
    {
     "data": {
      "text/plain": [
       "California              2001\n",
       "New York                1128\n",
       "Texas                    985\n",
       "Pennsylvania             587\n",
       "Washington               506\n",
       "Illinois                 492\n",
       "Ohio                     469\n",
       "Florida                  383\n",
       "Michigan                 255\n",
       "North Carolina           249\n",
       "Virginia                 224\n",
       "Arizona                  224\n",
       "Georgia                  184\n",
       "Tennessee                183\n",
       "Colorado                 182\n",
       "Indiana                  149\n",
       "Kentucky                 139\n",
       "Massachusetts            135\n",
       "New Jersey               130\n",
       "Oregon                   124\n",
       "Wisconsin                110\n",
       "Maryland                 105\n",
       "Delaware                  96\n",
       "Minnesota                 89\n",
       "Connecticut               82\n",
       "Missouri                  66\n",
       "Oklahoma                  66\n",
       "Alabama                   61\n",
       "Arkansas                  60\n",
       "Rhode Island              56\n",
       "Utah                      53\n",
       "Mississippi               53\n",
       "Louisiana                 42\n",
       "South Carolina            42\n",
       "Nevada                    39\n",
       "Nebraska                  38\n",
       "New Mexico                37\n",
       "Iowa                      30\n",
       "New Hampshire             27\n",
       "Kansas                    24\n",
       "Idaho                     21\n",
       "Montana                   15\n",
       "South Dakota              12\n",
       "Vermont                   11\n",
       "District of Columbia      10\n",
       "Maine                      8\n",
       "North Dakota               7\n",
       "West Virginia              4\n",
       "Wyoming                    1\n",
       "Name: State, dtype: int64"
      ]
     },
     "execution_count": 39,
     "metadata": {},
     "output_type": "execute_result"
    }
   ],
   "source": [
    "states_by_counts=df.State.value_counts()\n",
    "states_by_counts"
   ]
  },
  {
   "cell_type": "code",
   "execution_count": 42,
   "id": "governmental-sending",
   "metadata": {},
   "outputs": [
    {
     "data": {
      "text/plain": [
       "California        2001\n",
       "New York          1128\n",
       "Texas              985\n",
       "Pennsylvania       587\n",
       "Washington         506\n",
       "Illinois           492\n",
       "Ohio               469\n",
       "Florida            383\n",
       "Michigan           255\n",
       "North Carolina     249\n",
       "Virginia           224\n",
       "Arizona            224\n",
       "Georgia            184\n",
       "Tennessee          183\n",
       "Colorado           182\n",
       "Indiana            149\n",
       "Kentucky           139\n",
       "Massachusetts      135\n",
       "New Jersey         130\n",
       "Oregon             124\n",
       "Name: State, dtype: int64"
      ]
     },
     "execution_count": 42,
     "metadata": {},
     "output_type": "execute_result"
    }
   ],
   "source": [
    "states_by_counts[:20]"
   ]
  },
  {
   "cell_type": "code",
   "execution_count": 43,
   "id": "czech-phenomenon",
   "metadata": {},
   "outputs": [
    {
     "data": {
      "text/plain": [
       "<AxesSubplot:>"
      ]
     },
     "execution_count": 43,
     "metadata": {},
     "output_type": "execute_result"
    },
    {
     "data": {
      "image/png": "[encoded data removed]",
      "text/plain": [
       "<Figure size 432x288 with 1 Axes>"
      ]
     },
     "metadata": {},
     "output_type": "display_data"
    }
   ],
   "source": [
    "states_by_counts[:20].plot(kind='barh')"
   ]
  },
  {
   "cell_type": "code",
   "execution_count": 45,
   "id": "aggregate-saver",
   "metadata": {},
   "outputs": [
    {
     "data": {
      "text/plain": [
       "<AxesSubplot:xlabel='State', ylabel='Count'>"
      ]
     },
     "execution_count": 45,
     "metadata": {},
     "output_type": "execute_result"
    },
    {
     "data": {
      "image/png": "[encoded data removed]",
      "text/plain": [
       "<Figure size 432x288 with 1 Axes>"
      ]
     },
     "metadata": {},
     "output_type": "display_data"
    }
   ],
   "source": [
    "import seaborn as sns\n",
    "sns.set_style(\"darkgrid\")\n",
    "sns.histplot(states_by_counts, log_scale=True)"
   ]
  },
  {
   "cell_type": "code",
   "execution_count": 46,
   "id": "anticipated-material",
   "metadata": {},
   "outputs": [
    {
     "data": {
      "text/plain": [
       "array(['United States'], dtype=object)"
      ]
     },
     "execution_count": 46,
     "metadata": {},
     "output_type": "execute_result"
    }
   ],
   "source": [
    "df['Country'].unique()"
   ]
  },
  {
   "cell_type": "code",
   "execution_count": 51,
   "id": "handled-playback",
   "metadata": {},
   "outputs": [
    {
     "data": {
      "text/plain": [
       "array(['Furniture', 'Office Supplies', 'Technology'], dtype=object)"
      ]
     },
     "execution_count": 51,
     "metadata": {},
     "output_type": "execute_result"
    }
   ],
   "source": [
    "df['Category'].unique()"
   ]
  },
  {
   "cell_type": "code",
   "execution_count": 52,
   "id": "quiet-cemetery",
   "metadata": {},
   "outputs": [
    {
     "data": {
      "text/plain": [
       "Office Supplies    6026\n",
       "Furniture          2121\n",
       "Technology         1847\n",
       "Name: Category, dtype: int64"
      ]
     },
     "execution_count": 52,
     "metadata": {},
     "output_type": "execute_result"
    }
   ],
   "source": [
    "df['Category'].value_counts()"
   ]
  },
  {
   "cell_type": "code",
   "execution_count": 80,
   "id": "painted-torture",
   "metadata": {},
   "outputs": [
    {
     "data": {
      "image/png": "[encoded data removed]",
      "text/plain": [
       "<Figure size 432x288 with 1 Axes>"
      ]
     },
     "metadata": {},
     "output_type": "display_data"
    },
    {
     "data": {
      "image/png": "[encoded data removed]",
      "text/plain": [
       "<Figure size 432x288 with 1 Axes>"
      ]
     },
     "metadata": {},
     "output_type": "display_data"
    }
   ],
   "source": [
    "sns.countplot(x='Category',data=df)\n",
    "plt.show()\n",
    "sns.barplot(x='Category',y='Profit',data=df)\n",
    "plt.show()"
   ]
  },
  {
   "cell_type": "code",
   "execution_count": 82,
   "id": "confirmed-infrastructure",
   "metadata": {},
   "outputs": [
    {
     "data": {
      "text/plain": [
       "array(['Second Class', 'Standard Class', 'First Class', 'Same Day'],\n",
       "      dtype=object)"
      ]
     },
     "execution_count": 82,
     "metadata": {},
     "output_type": "execute_result"
    }
   ],
   "source": [
    "df['Ship Mode'].unique()"
   ]
  },
  {
   "cell_type": "code",
   "execution_count": 83,
   "id": "controlling-employment",
   "metadata": {},
   "outputs": [
    {
     "data": {
      "image/png": "[encoded data removed]",
      "text/plain": [
       "<Figure size 432x288 with 1 Axes>"
      ]
     },
     "metadata": {},
     "output_type": "display_data"
    },
    {
     "data": {
      "image/png": "[encoded data removed]",
      "text/plain": [
       "<Figure size 432x288 with 1 Axes>"
      ]
     },
     "metadata": {},
     "output_type": "display_data"
    }
   ],
   "source": [
    "sns.countplot(x='Ship Mode',data=df)\n",
    "plt.show()\n",
    "sns.barplot(x='Ship Mode',y='Profit',data=df)\n",
    "plt.show()"
   ]
  },
  {
   "cell_type": "code",
   "execution_count": 84,
   "id": "indonesian-manchester",
   "metadata": {},
   "outputs": [
    {
     "data": {
      "text/plain": [
       "array(['Consumer', 'Corporate', 'Home Office'], dtype=object)"
      ]
     },
     "execution_count": 84,
     "metadata": {},
     "output_type": "execute_result"
    }
   ],
   "source": [
    "df['Segment'].unique()"
   ]
  },
  {
   "cell_type": "code",
   "execution_count": 85,
   "id": "ethical-nirvana",
   "metadata": {},
   "outputs": [
    {
     "data": {
      "image/png": "[encoded data removed]",
      "text/plain": [
       "<Figure size 432x288 with 1 Axes>"
      ]
     },
     "metadata": {},
     "output_type": "display_data"
    },
    {
     "data": {
      "image/png": "[encoded data removed]",
      "text/plain": [
       "<Figure size 432x288 with 1 Axes>"
      ]
     },
     "metadata": {},
     "output_type": "display_data"
    }
   ],
   "source": [
    "sns.countplot(x='Segment',data=df)\n",
    "plt.show()\n",
    "sns.barplot(x='Segment',y='Profit',data=df)\n",
    "plt.show()"
   ]
  },
  {
   "cell_type": "code",
   "execution_count": 86,
   "id": "small-trial",
   "metadata": {},
   "outputs": [
    {
     "data": {
      "text/plain": [
       "array(['South', 'West', 'Central', 'East'], dtype=object)"
      ]
     },
     "execution_count": 86,
     "metadata": {},
     "output_type": "execute_result"
    }
   ],
   "source": [
    "df['Region'].unique()"
   ]
  },
  {
   "cell_type": "code",
   "execution_count": 87,
   "id": "noble-leader",
   "metadata": {},
   "outputs": [
    {
     "data": {
      "image/png": "[encoded data removed]",
      "text/plain": [
       "<Figure size 432x288 with 1 Axes>"
      ]
     },
     "metadata": {},
     "output_type": "display_data"
    },
    {
     "data": {
      "image/png": "[encoded data removed]",
      "text/plain": [
       "<Figure size 432x288 with 1 Axes>"
      ]
     },
     "metadata": {},
     "output_type": "display_data"
    }
   ],
   "source": [
    "sns.countplot(x='Region',data=df)\n",
    "plt.show()\n",
    "sns.barplot(x='Region',y='Profit',data=df)\n",
    "plt.show()"
   ]
  },
  {
   "cell_type": "code",
   "execution_count": 88,
   "id": "departmental-forth",
   "metadata": {},
   "outputs": [
    {
     "data": {
      "text/plain": [
       "array(['Bookcases', 'Chairs', 'Labels', 'Tables', 'Storage',\n",
       "       'Furnishings', 'Art', 'Phones', 'Binders', 'Appliances', 'Paper',\n",
       "       'Accessories', 'Envelopes', 'Fasteners', 'Supplies', 'Machines',\n",
       "       'Copiers'], dtype=object)"
      ]
     },
     "execution_count": 88,
     "metadata": {},
     "output_type": "execute_result"
    }
   ],
   "source": [
    "df['Sub-Category'].unique()"
   ]
  },
  {
   "cell_type": "code",
   "execution_count": 94,
   "id": "biological-berkeley",
   "metadata": {},
   "outputs": [
    {
     "data": {
      "image/png": "[encoded data removed]",
      "text/plain": [
       "<Figure size 1080x720 with 1 Axes>"
      ]
     },
     "metadata": {},
     "output_type": "display_data"
    },
    {
     "data": {
      "image/png": "[encoded data removed]",
      "text/plain": [
       "<Figure size 1080x720 with 1 Axes>"
      ]
     },
     "metadata": {},
     "output_type": "display_data"
    }
   ],
   "source": [
    "plt.figure(figsize=(15,10))\n",
    "sns.countplot(x='Sub-Category',data=df)\n",
    "plt.show()\n",
    "plt.figure(figsize=(15,10))\n",
    "sns.barplot(x='Sub-Category',y='Profit',data=df)\n",
    "plt.show()"
   ]
  },
  {
   "cell_type": "code",
   "execution_count": 96,
   "id": "comparable-earthquake",
   "metadata": {},
   "outputs": [
    {
     "data": {
      "text/plain": [
       "array([ 2,  3,  5,  7,  4,  6,  9,  1,  8, 14, 11, 13, 10, 12],\n",
       "      dtype=int64)"
      ]
     },
     "execution_count": 96,
     "metadata": {},
     "output_type": "execute_result"
    }
   ],
   "source": [
    "df['Quantity'].unique()"
   ]
  },
  {
   "cell_type": "code",
   "execution_count": 97,
   "id": "leading-showcase",
   "metadata": {},
   "outputs": [
    {
     "data": {
      "image/png": "[encoded data removed]",
      "text/plain": [
       "<Figure size 1080x720 with 1 Axes>"
      ]
     },
     "metadata": {},
     "output_type": "display_data"
    },
    {
     "data": {
      "image/png": "[encoded data removed]",
      "text/plain": [
       "<Figure size 1080x720 with 1 Axes>"
      ]
     },
     "metadata": {},
     "output_type": "display_data"
    }
   ],
   "source": [
    "plt.figure(figsize=(15,10))\n",
    "sns.countplot(x='Quantity',data=df)\n",
    "plt.show()\n",
    "plt.figure(figsize=(15,10))\n",
    "sns.barplot(x='Quantity',y='Profit',data=df)\n",
    "plt.show()"
   ]
  },
  {
   "cell_type": "code",
   "execution_count": 98,
   "id": "three-celebration",
   "metadata": {},
   "outputs": [
    {
     "data": {
      "text/plain": [
       "<AxesSubplot:xlabel='Quantity', ylabel='Profit'>"
      ]
     },
     "execution_count": 98,
     "metadata": {},
     "output_type": "execute_result"
    },
    {
     "data": {
      "image/png": "[encoded data removed]",
      "text/plain": [
       "<Figure size 432x288 with 1 Axes>"
      ]
     },
     "metadata": {},
     "output_type": "display_data"
    }
   ],
   "source": [
    "sns.scatterplot(x='Quantity', y='Profit',data=df)"
   ]
  },
  {
   "cell_type": "code",
   "execution_count": 99,
   "id": "incorporated-automation",
   "metadata": {},
   "outputs": [
    {
     "data": {
      "text/plain": [
       "<seaborn.axisgrid.FacetGrid at 0x2bec6cd44c0>"
      ]
     },
     "execution_count": 99,
     "metadata": {},
     "output_type": "execute_result"
    },
    {
     "data": {
      "image/png": "[encoded data removed]",
      "text/plain": [
       "<Figure size 360x360 with 1 Axes>"
      ]
     },
     "metadata": {},
     "output_type": "display_data"
    }
   ],
   "source": [
    "sns.relplot(x=\"Quantity\",y=\"Profit\",data=df,kind='line')"
   ]
  },
  {
   "cell_type": "code",
   "execution_count": 100,
   "id": "circular-duration",
   "metadata": {},
   "outputs": [
    {
     "data": {
      "text/plain": [
       "array([0.  , 0.45, 0.2 , 0.8 , 0.3 , 0.5 , 0.7 , 0.6 , 0.32, 0.1 , 0.4 ,\n",
       "       0.15])"
      ]
     },
     "execution_count": 100,
     "metadata": {},
     "output_type": "execute_result"
    }
   ],
   "source": [
    "df['Discount'].unique()"
   ]
  },
  {
   "cell_type": "code",
   "execution_count": 101,
   "id": "settled-rubber",
   "metadata": {},
   "outputs": [
    {
     "data": {
      "image/png": "[encoded data removed]",
      "text/plain": [
       "<Figure size 1080x720 with 1 Axes>"
      ]
     },
     "metadata": {},
     "output_type": "display_data"
    },
    {
     "data": {
      "image/png": "[encoded data removed]",
      "text/plain": [
       "<Figure size 1080x720 with 1 Axes>"
      ]
     },
     "metadata": {},
     "output_type": "display_data"
    }
   ],
   "source": [
    "plt.figure(figsize=(15,10))\n",
    "sns.countplot(x='Discount',data=df)\n",
    "plt.show()\n",
    "plt.figure(figsize=(15,10))\n",
    "sns.barplot(x='Discount',y='Profit',data=df)\n",
    "plt.show()"
   ]
  },
  {
   "cell_type": "code",
   "execution_count": 102,
   "id": "governmental-pathology",
   "metadata": {},
   "outputs": [
    {
     "data": {
      "text/plain": [
       "<seaborn.axisgrid.FacetGrid at 0x2bec55720a0>"
      ]
     },
     "execution_count": 102,
     "metadata": {},
     "output_type": "execute_result"
    },
    {
     "data": {
      "image/png": "[encoded data removed]",
      "text/plain": [
       "<Figure size 360x360 with 1 Axes>"
      ]
     },
     "metadata": {},
     "output_type": "display_data"
    }
   ],
   "source": [
    "sns.relplot(x=\"Discount\",y=\"Profit\",data=df,kind='line')"
   ]
  },
  {
   "cell_type": "code",
   "execution_count": 106,
   "id": "equivalent-bunch",
   "metadata": {},
   "outputs": [
    {
     "name": "stderr",
     "output_type": "stream",
     "text": [
      "c:\\users\\sk\\appdata\\local\\programs\\python\\python39\\lib\\site-packages\\seaborn\\distributions.py:2557: FutureWarning: `distplot` is a deprecated function and will be removed in a future version. Please adapt your code to use either `displot` (a figure-level function with similar flexibility) or `histplot` (an axes-level function for histograms).\n",
      "  warnings.warn(msg, FutureWarning)\n"
     ]
    },
    {
     "data": {
      "image/png": "[encoded data removed]",
      "text/plain": [
       "<Figure size 432x288 with 1 Axes>"
      ]
     },
     "metadata": {},
     "output_type": "display_data"
    }
   ],
   "source": [
    "sns.distplot(df['Postal Code'])\n",
    "plt.show()"
   ]
  },
  {
   "cell_type": "code",
   "execution_count": 108,
   "id": "automotive-magnitude",
   "metadata": {},
   "outputs": [
    {
     "data": {
      "text/plain": [
       "0       261.9600\n",
       "1       731.9400\n",
       "2        14.6200\n",
       "3       957.5775\n",
       "4        22.3680\n",
       "          ...   \n",
       "9989     25.2480\n",
       "9990     91.9600\n",
       "9991    258.5760\n",
       "9992     29.6000\n",
       "9993    243.1600\n",
       "Name: Sales, Length: 9994, dtype: float64"
      ]
     },
     "execution_count": 108,
     "metadata": {},
     "output_type": "execute_result"
    }
   ],
   "source": [
    "df['Sales']"
   ]
  },
  {
   "cell_type": "code",
   "execution_count": 118,
   "id": "square-power",
   "metadata": {},
   "outputs": [
    {
     "data": {
      "image/png": "[encoded data removed]",
      "text/plain": [
       "<Figure size 432x288 with 1 Axes>"
      ]
     },
     "metadata": {},
     "output_type": "display_data"
    }
   ],
   "source": [
    "sns.distplot(df['Sales'])\n",
    "plt.show()"
   ]
  },
  {
   "cell_type": "code",
   "execution_count": 113,
   "id": "stable-macedonia",
   "metadata": {},
   "outputs": [
    {
     "data": {
      "text/plain": [
       "<AxesSubplot:xlabel='Sales', ylabel='Profit'>"
      ]
     },
     "execution_count": 113,
     "metadata": {},
     "output_type": "execute_result"
    },
    {
     "data": {
      "image/png": "[encoded data removed]",
      "text/plain": [
       "<Figure size 432x288 with 1 Axes>"
      ]
     },
     "metadata": {},
     "output_type": "display_data"
    }
   ],
   "source": [
    "sns.scatterplot(x='Sales', y='Profit',data=df)"
   ]
  },
  {
   "cell_type": "code",
   "execution_count": 112,
   "id": "positive-signature",
   "metadata": {},
   "outputs": [
    {
     "data": {
      "text/plain": [
       "[<matplotlib.lines.Line2D at 0x2bec4b9d820>]"
      ]
     },
     "execution_count": 112,
     "metadata": {},
     "output_type": "execute_result"
    },
    {
     "data": {
      "image/png": "[encoded data removed]",
      "text/plain": [
       "<Figure size 432x288 with 1 Axes>"
      ]
     },
     "metadata": {},
     "output_type": "display_data"
    }
   ],
   "source": [
    "plt.plot(df[\"Sales\"],df[\"Profit\"])"
   ]
  },
  {
   "cell_type": "code",
   "execution_count": 125,
   "id": "exempt-split",
   "metadata": {},
   "outputs": [
    {
     "data": {
      "text/plain": [
       "0       1\n",
       "1       1\n",
       "2       1\n",
       "3       0\n",
       "4       1\n",
       "       ..\n",
       "9989    1\n",
       "9990    1\n",
       "9991    1\n",
       "9992    1\n",
       "9993    1\n",
       "Name: status, Length: 9994, dtype: int64"
      ]
     },
     "execution_count": 125,
     "metadata": {},
     "output_type": "execute_result"
    }
   ],
   "source": [
    "df['status']=(df['Profit']>0)\n",
    "df['status']=df['status'].replace([True,False],[1,0])\n",
    "df['status']"
   ]
  },
  {
   "cell_type": "code",
   "execution_count": 127,
   "id": "precise-prague",
   "metadata": {},
   "outputs": [
    {
     "data": {
      "text/html": [
       "<div>\n",
       "<style scoped>\n",
       "    .dataframe tbody tr th:only-of-type {\n",
       "        vertical-align: middle;\n",
       "    }\n",
       "\n",
       "    .dataframe tbody tr th {\n",
       "        vertical-align: top;\n",
       "    }\n",
       "\n",
       "    .dataframe thead th {\n",
       "        text-align: right;\n",
       "    }\n",
       "</style>\n",
       "<table border=\"1\" class=\"dataframe\">\n",
       "  <thead>\n",
       "    <tr style=\"text-align: right;\">\n",
       "      <th></th>\n",
       "      <th>Postal Code</th>\n",
       "      <th>Profit</th>\n",
       "      <th>Sales</th>\n",
       "    </tr>\n",
       "    <tr>\n",
       "      <th>status</th>\n",
       "      <th></th>\n",
       "      <th></th>\n",
       "      <th></th>\n",
       "    </tr>\n",
       "  </thead>\n",
       "  <tbody>\n",
       "    <tr>\n",
       "      <th>0</th>\n",
       "      <td>55915.980888</td>\n",
       "      <td>-80.646325</td>\n",
       "      <td>256.401860</td>\n",
       "    </tr>\n",
       "    <tr>\n",
       "      <th>1</th>\n",
       "      <td>55016.047779</td>\n",
       "      <td>54.917884</td>\n",
       "      <td>223.480623</td>\n",
       "    </tr>\n",
       "  </tbody>\n",
       "</table>\n",
       "</div>"
      ],
      "text/plain": [
       "         Postal Code     Profit       Sales\n",
       "status                                     \n",
       "0       55915.980888 -80.646325  256.401860\n",
       "1       55016.047779  54.917884  223.480623"
      ]
     },
     "execution_count": 127,
     "metadata": {},
     "output_type": "execute_result"
    }
   ],
   "source": [
    "x=pd.pivot_table(df,index='status',values=quant_features)\n",
    "x"
   ]
  },
  {
   "cell_type": "code",
   "execution_count": 130,
   "id": "capital-vacuum",
   "metadata": {},
   "outputs": [
    {
     "data": {
      "text/plain": [
       "['Ship Mode',\n",
       " 'Segment',\n",
       " 'Country',\n",
       " 'City',\n",
       " 'State',\n",
       " 'Region',\n",
       " 'Category',\n",
       " 'Sub-Category']"
      ]
     },
     "execution_count": 130,
     "metadata": {},
     "output_type": "execute_result"
    }
   ],
   "source": [
    "non_num_features=[feature for feature in df.columns if df[feature].dtype=='O']\n",
    "non_num_features"
   ]
  },
  {
   "cell_type": "code",
   "execution_count": 131,
   "id": "documented-liberty",
   "metadata": {},
   "outputs": [],
   "source": [
    "for feature in non_num_features:\n",
    "    df=pd.get_dummies(df, columns = [feature],drop_first=True, prefix=feature)"
   ]
  },
  {
   "cell_type": "code",
   "execution_count": 133,
   "id": "large-samuel",
   "metadata": {},
   "outputs": [
    {
     "data": {
      "text/plain": [
       "(9994, 610)"
      ]
     },
     "execution_count": 133,
     "metadata": {},
     "output_type": "execute_result"
    }
   ],
   "source": [
    "df.shape"
   ]
  },
  {
   "cell_type": "code",
   "execution_count": 135,
   "id": "stretch-father",
   "metadata": {},
   "outputs": [
    {
     "data": {
      "text/plain": [
       "Profit                  1.000000\n",
       "Sales                   0.479064\n",
       "Sub-Category_Copiers    0.278873\n",
       "status                  0.228715\n",
       "Category_Technology     0.101825\n",
       "                          ...   \n",
       "State_Pennsylvania     -0.058827\n",
       "State_Ohio             -0.061425\n",
       "Sub-Category_Tables    -0.065286\n",
       "State_Texas            -0.077323\n",
       "Discount               -0.219487\n",
       "Name: Profit, Length: 610, dtype: float64"
      ]
     },
     "execution_count": 135,
     "metadata": {},
     "output_type": "execute_result"
    }
   ],
   "source": [
    "c_matrix=df.corr()\n",
    "c_matrix['Profit'].sort_values(ascending=False)"
   ]
  },
  {
   "cell_type": "code",
   "execution_count": null,
   "id": "protecting-poultry",
   "metadata": {},
   "outputs": [],
   "source": []
  }
 ],
 "metadata": {
  "kernelspec": {
   "display_name": "Python 3",
   "language": "python",
   "name": "python3"
  },
  "language_info": {
   "codemirror_mode": {
    "name": "ipython",
    "version": 3
   },
   "file_extension": ".py",
   "mimetype": "text/x-python",
   "name": "python",
   "nbconvert_exporter": "python",
   "pygments_lexer": "ipython3",
   "version": "3.9.1"
  }
 },
 "nbformat": 4,
 "nbformat_minor": 5
}
